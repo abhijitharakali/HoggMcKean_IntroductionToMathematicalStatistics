{
 "cells": [
  {
   "cell_type": "code",
   "execution_count": 157,
   "id": "286b5108",
   "metadata": {},
   "outputs": [],
   "source": [
    "import numpy as np\n",
    "import pandas as pd\n",
    "\n",
    "import statsmodels.api as sm\n",
    "import statsmodels.stats.api as sms\n",
    "import pylab as py\n",
    "import scipy.linalg as la\n",
    "import statistics\n",
    "import scipy.stats as stats\n",
    "import scipy\n",
    "\n",
    "from math import gamma as tma\n",
    "import itertools\n",
    "from scipy.stats import laplace\n",
    "from scipy.stats import logistic\n",
    "from scipy.stats import cauchy\n",
    "from scipy.stats import binom\n",
    "from scipy.stats import weibull_min as weibull\n",
    "from scipy.stats import poisson\n",
    "from scipy.stats import gamma\n",
    "from scipy.stats import beta\n",
    "from scipy.stats import norm\n",
    "from scipy.stats import multivariate_normal as mnorm\n",
    "from scipy.stats import t as studt\n",
    "from scipy.stats import f as fdist\n",
    "from scipy.stats import chisquare as chisq\n",
    "from scipy.stats import chi2\n",
    "from scipy.stats import gaussian_kde as gkde\n",
    "from sklearn.neighbors import KernelDensity\n",
    "import math\n",
    "import sympy as sym\n",
    "import random\n",
    "import seaborn as sns\n",
    "\n",
    "import matplotlib.pyplot as plt\n",
    "import matplotlib.lines as mlines\n",
    "import matplotlib.patches as mpatches\n",
    "from matplotlib.cbook import boxplot_stats\n",
    "\n",
    "import warnings\n",
    "warnings.filterwarnings('ignore')"
   ]
  },
  {
   "cell_type": "code",
   "execution_count": 158,
   "id": "027411d6",
   "metadata": {},
   "outputs": [],
   "source": [
    "def dxt(a,df,t):\n",
    "    return (studt.cdf(a, df, loc=0, scale=1)-t)\n",
    "def invert_studt(t,df):\n",
    "    a = 10.0 * int(np.sqrt(df/(df-2)))\n",
    "    b = -10.0 * int(np.sqrt(df/(df-2)))\n",
    "    c = (a+b)/2\n",
    "    tol = 0.00001\n",
    "\n",
    "    while(abs(dxt(c,df,t)) > tol):\n",
    "        c = (a+b)/2\n",
    "        if(dxt(c,df,t) > 0):\n",
    "            a = c\n",
    "        else:\n",
    "            b = c\n",
    "    return c"
   ]
  },
  {
   "cell_type": "markdown",
   "id": "68da676e",
   "metadata": {},
   "source": [
    "#### Exercise 6.5.1.\n",
    "\n",
    "On page $80$ of their test, Hollander and Wolfe $(1999)$ present measurements of the ratio of the earth’s mass to that of its moon that were made by $7$ different spacecraft ($5$ of the Mariner type and $2$ of the Pioneer type). These measurements are presented below (also in the file earthmoon.rda). Based on earlier Ranger voyages, scientists had set this ratio at $81.3035$. Assuming a normal distribution, test the hypotheses $H_0 : \\mu = 81.3035$ versus $H_1 : \\mu \\neq 81.3035$, where $\\mu$ is the true mean ratio of these later voyages. Using the $p$-value, conclude in terms of the problem at the nominal $\\alpha$-level of $0.05$.\n",
    "\n",
    "||Earth|to|Moon|Mass|Ratios||\n",
    "|:-:|:-:|:-:|:-:|:-:|:-:|:-:|\n",
    "|81.3001|81.3015|81.3006|81.3011|81.2997|81.3005|81.3021|\n",
    "\n"
   ]
  },
  {
   "cell_type": "code",
   "execution_count": 159,
   "id": "d6e5359d",
   "metadata": {},
   "outputs": [],
   "source": [
    "x=[81.3001,81.3015,81.3006,81.3011,81.2997,81.3005,81.3021]\n",
    "mu0 = 81.3035\n",
    "\n",
    "xb=np.mean(x)\n",
    "sb = np.std(x,ddof=1)\n",
    "ta = invert_studt(0.975,len(x)-1)\n",
    "\n",
    "test_statistic = np.sqrt(len(x))*(xb-mu0)/sb"
   ]
  },
  {
   "cell_type": "code",
   "execution_count": 160,
   "id": "9fc7f221",
   "metadata": {},
   "outputs": [
    {
     "data": {
      "text/plain": [
       "(-8.641646184614268, 2.4468994140625, True)"
      ]
     },
     "execution_count": 160,
     "metadata": {},
     "output_type": "execute_result"
    }
   ],
   "source": [
    "test_statistic,ta,(np.abs(test_statistic)>ta)"
   ]
  },
  {
   "cell_type": "code",
   "execution_count": 161,
   "id": "e676b834",
   "metadata": {},
   "outputs": [
    {
     "name": "stdout",
     "output_type": "stream",
     "text": [
      "Hypothesis is rejected\n"
     ]
    }
   ],
   "source": [
    "if(np.abs(test_statistic)>ta):\n",
    "    print('Hypothesis is rejected')\n",
    "else:\n",
    "    print('Hypothesis cannot be rejected')"
   ]
  },
  {
   "cell_type": "markdown",
   "id": "7768451a",
   "metadata": {},
   "source": [
    "#### Exercise 6.5.2. \n",
    "\n",
    "Obtain the boxplot of the data in Exercise $6.5.1.$ Mark the value $81.3035$ on the plot. Compute the $95\\%$ confidence interval for $\\mu$, $(4.2.3)$, and mark its endpoints on the plot. Comment."
   ]
  },
  {
   "cell_type": "code",
   "execution_count": 162,
   "id": "e4b7fca6",
   "metadata": {},
   "outputs": [
    {
     "name": "stdout",
     "output_type": "stream",
     "text": [
      "Confidence interval is:\n",
      "81.30003548959576 81.30156451040426\n"
     ]
    }
   ],
   "source": [
    "print('Confidence interval is:')\n",
    "print((xb-ta*sb/np.sqrt(len(x))),(xb+ta*sb/np.sqrt(len(x))))\n",
    "\n",
    "ci = [(xb-ta*sb/np.sqrt(len(x))),(xb+ta*sb/np.sqrt(len(x)))]\n",
    "hyp = [mu0]"
   ]
  },
  {
   "cell_type": "code",
   "execution_count": 163,
   "id": "ea256391",
   "metadata": {},
   "outputs": [
    {
     "data": {
      "image/png": "[encoded data removed]",
      "text/plain": [
       "<Figure size 720x432 with 1 Axes>"
      ]
     },
     "metadata": {},
     "output_type": "display_data"
    }
   ],
   "source": [
    "fig1 = plt.figure(figsize = (10,6))\n",
    "\n",
    "sns.set_style('darkgrid')\n",
    "sns.set_palette('Set2')\n",
    "\n",
    "ax=sns.boxplot(y=x,color='b')\n",
    "sns.stripplot(y=ci,color='r',size=10)\n",
    "sns.stripplot(y=hyp,color='y',size=10)\n",
    "\n",
    "blue_line = mlines.Line2D([], [], color='blue', marker='', label='Data')\n",
    "blue_patch = mpatches.Patch(color='blue', label='Data')\n",
    "red_dot = mlines.Line2D([], [], color='red', marker='.', linestyle='None',markersize=15, label='Confidence Interval Limits')\n",
    "yellow_dot = mlines.Line2D([], [], color='yellow', marker='.', linestyle='None',markersize=15, label='Mean Of Hypothesis')\n",
    "\n",
    "fig1.legend(handles = [blue_patch,red_dot,yellow_dot])\n",
    "ax.get_yaxis().get_major_formatter().set_useOffset(False)\n",
    "\n",
    "plt.title('Boxplot of values')\n",
    "plt.ylabel('Values')\n",
    "plt.show()"
   ]
  },
  {
   "cell_type": "code",
   "execution_count": 164,
   "id": "dcdd9dda",
   "metadata": {},
   "outputs": [],
   "source": [
    "# plt.figure(figsize = (10,6))\n",
    "\n",
    "# sns.set_style('darkgrid')\n",
    "# sns.set_palette('Set2')\n",
    "\n",
    "# sns.boxplot(x = hit['weight'], y = pitch['weight'])\n",
    "\n",
    "# plt.title('Boxplot of weights')\n",
    "# plt.ylabel('Pitcher Weights')\n",
    "# plt.xlabel('Hitter Weights')\n",
    "\n",
    "# plt.show()"
   ]
  },
  {
   "cell_type": "code",
   "execution_count": 165,
   "id": "18059256",
   "metadata": {},
   "outputs": [],
   "source": [
    "def dxc2(a,t,dof):\n",
    "    return (chi2.cdf(a, dof)-t)\n",
    "def invert_chi2(t,dof):\n",
    "    a = 0\n",
    "    b = 100.0\n",
    "    c = (a+b)/2\n",
    "    tol = 0.00001\n",
    "\n",
    "    while(abs(dxc2(c,t,dof)) > tol):\n",
    "        c = (a+b)/2\n",
    "        if(dxc2(c,t,dof) < 0):\n",
    "            a = c\n",
    "        else:\n",
    "            b = c\n",
    "    return c"
   ]
  },
  {
   "cell_type": "code",
   "execution_count": 166,
   "id": "401cd0d7",
   "metadata": {},
   "outputs": [],
   "source": [
    "def dx(a,t):\n",
    "    return (norm.cdf(a, loc=0, scale=1)-t)\n",
    "def invert_norm(t):\n",
    "    a = 10.0\n",
    "    b = -10.0\n",
    "    c = (a+b)/2\n",
    "    tol = 0.00001\n",
    "\n",
    "    while(abs(dx(c,t)) > tol):\n",
    "        c = (a+b)/2\n",
    "        if(dx(c,t) > 0):\n",
    "            a = c\n",
    "        else:\n",
    "            b = c\n",
    "    return c"
   ]
  },
  {
   "cell_type": "markdown",
   "id": "6a41db8b",
   "metadata": {},
   "source": [
    "#### Exercise 6.5.3. \n",
    "\n",
    "Consider the survey of citizens discussed in Exercise $6.4.1$. Suppose that the hypotheses of interest are $H_0 : p_1 = p_2$ versus $H_1 : p_1 \\neq p_2$. Note that computation can be carried out using the R function p2pair.R, which can be downloaded at the site mentioned in the Preface.\n",
    "\n",
    "(a) Test these hypotheses at level $\\alpha = 0.05$ using the test $(6.5.20).$ Conclude in terms of the problem.\n",
    "\n",
    "(b) Obtain the $95\\%$ confidence interval, $(6.5.21)$, for $p_1 - p_2$. What does the confidence interval mean in terms of the problem?"
   ]
  },
  {
   "cell_type": "code",
   "execution_count": 167,
   "id": "9814e91a",
   "metadata": {},
   "outputs": [],
   "source": [
    "# (a)\n",
    "\n",
    "n = 60+45+70+25\n",
    "p1 = 60/n\n",
    "p2 = 45/n\n",
    "p3 = 70/n\n",
    "p4 = 25/n\n",
    "\n",
    "pmle = [p1,p2,p3,p4] \n",
    "\n",
    "chi_stat = invert_chi2(0.95,1)"
   ]
  },
  {
   "cell_type": "code",
   "execution_count": 168,
   "id": "718eef7d",
   "metadata": {},
   "outputs": [
    {
     "data": {
      "text/plain": [
       "3.841400146484375"
      ]
     },
     "execution_count": 168,
     "metadata": {},
     "output_type": "execute_result"
    }
   ],
   "source": [
    "chi_stat"
   ]
  },
  {
   "cell_type": "code",
   "execution_count": 169,
   "id": "3e8fb99e",
   "metadata": {
    "scrolled": true
   },
   "outputs": [
    {
     "name": "stdout",
     "output_type": "stream",
     "text": [
      "Hypothesis cannot be rejected\n"
     ]
    }
   ],
   "source": [
    "wald_stat = n*(p1-p2)**2/(p1+p2-(p1-p2)**2)\n",
    "\n",
    "if(wald_stat > chi_stat):\n",
    "    print('Hypothesis cannot be rejected')\n",
    "else:\n",
    "    print('Hypothesis cannot be rejected')"
   ]
  },
  {
   "cell_type": "code",
   "execution_count": 170,
   "id": "8779f94f",
   "metadata": {},
   "outputs": [
    {
     "name": "stdout",
     "output_type": "stream",
     "text": [
      "(-0.0248724925876823, 0.17487249258768228)\n"
     ]
    }
   ],
   "source": [
    "# (b)\n",
    "\n",
    "mid = (p1-p2)\n",
    "za = invert_norm(0.975)\n",
    "dev = za*((p1+p2-(p1-p2)**2)/n)**0.5\n",
    "print((mid-dev,mid+dev))"
   ]
  },
  {
   "cell_type": "markdown",
   "id": "54bfc176",
   "metadata": {},
   "source": [
    "Answer from the text:\n",
    "\n",
    "$6.5.3$ (b) $(−0.0249, 0.1749).$"
   ]
  },
  {
   "cell_type": "markdown",
   "id": "259cf163",
   "metadata": {},
   "source": [
    "The interval traps $0$ so hypothesis cannot be rejected"
   ]
  },
  {
   "cell_type": "markdown",
   "id": "0be56836",
   "metadata": {},
   "source": [
    "Starting from $6.5.4$ till $6.5.7$, Tomoki Okuno has solutions."
   ]
  },
  {
   "cell_type": "markdown",
   "id": "6c4ae8b4",
   "metadata": {},
   "source": [
    "#### Exercise 6.5.8. \n",
    "\n",
    "For a numerical example of the F-test derived in Exercise $6.5.7$, here are two generated data sets. The first was generated by the R call rexp$(10,1/20)$, i.e., $10$ observations from a $\\Gamma(1,20)$ distribution. The second was generated by rexp$(12,1/40)$. The data are rounded and can also be found in the file genexpd.rda.\n",
    "\n",
    "(a) Obtain comparison boxplots of the data sets. Comment.\n",
    "\n",
    "(b) Carry out the F-test of Exercise $6.5.7$. Conclude in terms of the problem at level $0.05$.\n",
    "\n",
    "||||||||||||||\n",
    "|:-:|:-:|:-:|:-:|:-:|:-:|:-:|:-:|:-:|:-:|:-:|:-:|:-:|\n",
    "|x: |11.1 |11.7 |12.7 |9.6 |14.7 |1.6 |1.7 |56.1 |3.3 |2.6|||\n",
    "|y: |55.6 |40.5 |32.7 |25.6 |70.6 |1.4 |51.5 |12.6 |16.9 |63.3 |5.6 |66.7|"
   ]
  },
  {
   "cell_type": "markdown",
   "id": "cf0a2b12",
   "metadata": {},
   "source": [
    "Answer at the end of the book\n",
    "\n",
    "$6.5.8$ (b) $F = \\overline{x}/\\overline{y} = 0.3389$, Reject."
   ]
  },
  {
   "cell_type": "code",
   "execution_count": 171,
   "id": "476e4fc2",
   "metadata": {},
   "outputs": [
    {
     "data": {
      "image/png": "[encoded data removed]",
      "text/plain": [
       "<Figure size 720x432 with 1 Axes>"
      ]
     },
     "metadata": {},
     "output_type": "display_data"
    }
   ],
   "source": [
    "# (a)\n",
    "\n",
    "x0=[11.1,11.7,12.7,9.6,14.7,1.6,1.7,56.1,3.3,2.6]\n",
    "y0=[55.6,40.5,32.7,25.6,70.6,1.4,51.5,12.6,16.9,63.3,5.6,66.7]\n",
    "\n",
    "data0 = pd.DataFrame({'X': pd.Series(x0), 'Y': pd.Series(y0)})\n",
    "\n",
    "plt.figure(figsize = (10,6))\n",
    "\n",
    "sns.set_style('darkgrid')\n",
    "sns.set_palette('Set2')\n",
    "\n",
    "sns.boxplot(data=data0)\n",
    "\n",
    "plt.title('Boxplot of values')\n",
    "plt.ylabel('Values')\n",
    "plt.xlabel('Variable')\n",
    "\n",
    "plt.show()"
   ]
  },
  {
   "cell_type": "markdown",
   "id": "36dd581b",
   "metadata": {},
   "source": [
    "X has one outlier, while Y has higher variance but no outlier."
   ]
  },
  {
   "cell_type": "code",
   "execution_count": 172,
   "id": "757c711c",
   "metadata": {},
   "outputs": [],
   "source": [
    "# (b)\n",
    "\n",
    "f = np.mean(x0)/np.mean(y0)"
   ]
  },
  {
   "cell_type": "code",
   "execution_count": 173,
   "id": "626a3309",
   "metadata": {},
   "outputs": [],
   "source": [
    "def dxf(a,dfn,dfd,t):\n",
    "    return (fdist.cdf(a, dfn,dfd)-t)\n",
    "def invert_fdist(t,d1,d2):\n",
    "    var = 2*d2**2/(d2-2)**2/(d2-4)*(d1+d2-2)/d1\n",
    "    sig = np.sqrt(var)\n",
    "    mu = d2/(d2-2)\n",
    "    a = int((mu+10.0) * (sig))\n",
    "    b = int((mu-10.0) * (sig))\n",
    "#     a = 1000\n",
    "#     b = -1000\n",
    "    c = (a+b)/2\n",
    "#     print(a,b,c,mu,sig)\n",
    "    tol = 0.00001\n",
    "    cnt = 0\n",
    "    while(abs(dxf(c,d1,d2,t)) > tol):\n",
    "        cnt = cnt+1\n",
    "        c = (a+b)/2\n",
    "        if(dxf(c,d1,d2,t) > 0):\n",
    "            a = c\n",
    "        else:\n",
    "            b = c\n",
    "        if(cnt > 100):\n",
    "#             print(a,b,c)\n",
    "            return -1\n",
    "    return c"
   ]
  },
  {
   "cell_type": "markdown",
   "id": "e58beed8",
   "metadata": {},
   "source": [
    "As Tomoki points out in the solution, the F-statistic $\\overline{x}/\\overline{y}$ is distributed as $\\textrm{F}_{(2n_1,2n_2)}$"
   ]
  },
  {
   "cell_type": "code",
   "execution_count": 174,
   "id": "7eaf86c7",
   "metadata": {},
   "outputs": [
    {
     "name": "stdout",
     "output_type": "stream",
     "text": [
      "0.3388713318284425 0.41533660888671875 2.327301025390625\n"
     ]
    }
   ],
   "source": [
    "print(f,invert_fdist(0.025,2*len(x0),2*len(y0)),invert_fdist(0.975,2*len(x0),2*len(y0)))"
   ]
  },
  {
   "cell_type": "markdown",
   "id": "0d13573c",
   "metadata": {},
   "source": [
    "Test statistic is lower than the lower limit of $0.415$ and hence we reject the hypothesis"
   ]
  },
  {
   "cell_type": "markdown",
   "id": "b5c44664",
   "metadata": {},
   "source": [
    "Solutions manual has solution to $6.5.9$ under $6.5.6$"
   ]
  },
  {
   "cell_type": "markdown",
   "id": "e3e211e8",
   "metadata": {},
   "source": [
    "#### Exercise 6.5.10.\n",
    "\n",
    "Let $(X_1,Y_1),(X_2,Y_2),...,(X_n,Y_n)$ be a random sample from a bivariate normal distribution with $\\mu_1,\\mu_2,\\sigma^2_1 = \\sigma^2_2 = \\sigma^2,\\rho = 1/2$, where $\\mu_1,\\mu_2,$ and $\\sigma^2 > 0$ are two unknown real numbers. Find the likelihood ratio $\\Lambda$ for testing $H_0 : \\mu_1 = \\mu_2 = 0$, $\\sigma^2$ unknown against all alternatives. The likelihood ratio $\\Lambda$ is a function of what statistic that has a well-known distribution?"
   ]
  },
  {
   "cell_type": "markdown",
   "id": "3e93e70c",
   "metadata": {},
   "source": [
    "The following SE links have solutions/useful material\n",
    "\n",
    "https://stats.stackexchange.com/q/543336/183497\n",
    "\n",
    "https://stats.stackexchange.com/q/142395/183497\n",
    "\n",
    "https://stats.stackexchange.com/q/599057/183497 (assumes no correlation)\n",
    "\n",
    "Finding likelihood-ratio is fairly straightforward. The statistic of which it is a function is the tricky one which the answers above try to explore."
   ]
  },
  {
   "cell_type": "markdown",
   "id": "8281bce3",
   "metadata": {},
   "source": [
    "#### Exercise 6.5.11\n",
    "\n",
    "Let $n$ independent trials of an experiment be such that $x_1,x_2,\\ldots,x_k$ are\n",
    "the respective numbers of times that the experiment ends in the mutually exclusive\n",
    "and exhaustive events $C_1,C_2,\\ldots,C_k.$ If $p_i = P(C_i)$ is constant throughout the $n$\n",
    "trials, then the probability of that particular sequence of trials is $L=p_1^{x_1}p_2^{x_2}\\cdots p_k^{x_k}.$\n",
    "\n",
    "(a) Recalling that $p_1 + p_2 + \\cdots + p_k = 1$, show that the likelihood ratio for testing $H_0 : p_i = p_{i0} > 0, i = 1,2,\\ldots, k,$ against all alternatives is given by $$\\Lambda = \\prod_{i=1}^k \\left ( \\cfrac{(p_{i0})^{x_i}}{(x_i/n)^{x_i}} \\right )$$\n",
    "\n",
    "(b) Show that $$-2\\log{\\Lambda} = \\sum_{i=1}^k \\cfrac{x_i(x_i-np_{i0})^2}{(np'_{i})^2}$$ where $p_i'$ is between $p_{i0}$ and $x_i/n$\n",
    "\n",
    "*Hint*: Expand $\\log{p_{i0}}$ in a Taylor’s series with the remainder in the term\n",
    "involving $(p_{i0} − x_i/n)^2.$\n",
    "\n",
    "(c) For large $n$, argue that $x_i/(np_i')^2$ is approximated by $1/(np_{i0})$ and hence $$-2\\log{\\Lambda} \\approx \\sum_{i=1}^{k} \\cfrac{(x_i-np_{i0})^2}{np_{i0}}.$$\n",
    "\n",
    "Theorem $6.5.1$ says that the right-hand member of this last equation defines a statistic that has an approximate chi-square distribution with $k − 1$ degrees of freedom. Note that dimension of $\\Omega$ $-$ dimension of $\\omega = (k − 1) − 0 = k − 1.$\n",
    "\n",
    "Part (a) is trivial. I could not complete part (b) initially. I could derive an expression for $p'_i$ but then showing that it lies between $x_i/n$ and $p_{i_0}$ was not obvious to me. Then I kept on trying recording my thoughts on SE\n",
    "https://stats.stackexchange.com/q/651822/183497\n",
    "Finally, I think I got the answer after trying for a long time, even though it was a trivial to solve it, and was a matter of knowing a form of Taylor Series expansion.\n",
    "\n",
    "Again part (c) is also trivial (basically the events $C_1$ and its complement form a binomial distribution with probability $p_i$ and under $H_0$, $x_i/n \\xrightarrow{P} p_i $ (from CLT) $ = p_{i0}$ as $n \\to \\infty$, and $p'_i$ will approach the GM of $x_i/n$ and $p_{i0}$ which lies between them (see https://math.stackexchange.com/a/4680606/145325). Therefore as the interval between $x_i/n$ and $p_i$ shrinks to $0$ under $H_0$, the rest follows)."
   ]
  },
  {
   "cell_type": "markdown",
   "id": "a368ff70",
   "metadata": {},
   "source": [
    "#### Exercise 6.5.12\n",
    "\n",
    "Finish the derivation of the LRT found in Example $6.5.3.$ Simplify as much as possible.\n",
    "\n",
    "This is just deriving the LRT using equation $6.5.23$ for the null case, and the alternative case, and taking ratios. The solutions manual has the answer under $6.5.9$"
   ]
  },
  {
   "cell_type": "markdown",
   "id": "45574139",
   "metadata": {},
   "source": [
    "#### Exercise 6.5.13. \n",
    "\n",
    "Show that expression $(6.5.25)$ of Example $6.5.3$ is true.\n",
    "\n",
    "Not much to show here. The equation before $6.5.25$ shows that some scaled value of $\\hat{p}_1-p_1$ is $\\textrm{N}(0,1)$. So with appropriate scaling, and subtracting one from the other, and noting that mean is still $0$, we can arrive at equation $6.5.25$."
   ]
  },
  {
   "cell_type": "markdown",
   "id": "e205e917",
   "metadata": {},
   "source": [
    "Solutions manual has the answer to $6.5.14$"
   ]
  },
  {
   "cell_type": "markdown",
   "id": "f94c0bbb",
   "metadata": {},
   "source": [
    "#### Exercises 6.5.15 and 6.5.16\n",
    "\n",
    "Converted the R code from solutions manual to Python using the following online R to Python code converter tool\n",
    "\n",
    "https://www.codeconvert.ai/r-to-python-converter"
   ]
  },
  {
   "cell_type": "code",
   "execution_count": 175,
   "id": "e59b33ec",
   "metadata": {},
   "outputs": [],
   "source": [
    "def p6513(x, y, n1, n2):\n",
    "    p1 = x / n1\n",
    "    p2 = y / n2\n",
    "    pc = (n1 * p1 + n2 * p2) / (n1 + n2)\n",
    "    zw = (p1 - p2) / np.sqrt((p1 * (1 - p1) / n1) + (p2 * (1 - p2) / n2))\n",
    "    pzw = 2 * min(norm.cdf(zw), 1 - norm.cdf(zw))\n",
    "    lrt = -2 * (n1 * p1 * np.log(pc / p1) + n2 * p2 * np.log(pc / p2) +\n",
    "                (n1 - n1 * p1) * np.log((1 - pc) / (1 - p1)) +\n",
    "                (n2 - n2 * p2) * np.log((1 - pc) / (1 - p2)))\n",
    "    plrt = 1 - chi2.cdf(lrt, 1)\n",
    "    zpc = (p1 - p2) / np.sqrt(pc * (1 - pc) * ((1 / n1) + (1 / n2)))\n",
    "    pzpc = 2 * min(norm.cdf(zpc), 1 - norm.cdf(zpc))\n",
    "    \n",
    "    return {'zw': zw, 'pzw': pzw, 'lrt': lrt, 'plrt': plrt, 'zpc': zpc, 'pzpc': pzpc}"
   ]
  },
  {
   "cell_type": "code",
   "execution_count": 176,
   "id": "46a0591b",
   "metadata": {
    "scrolled": false
   },
   "outputs": [
    {
     "data": {
      "text/plain": [
       "{'zw': -1.7271126578424703,\n",
       " 'pzw': 0.08414743276119413,\n",
       " 'lrt': 2.9936531947726586,\n",
       " 'plrt': 0.08359139201023247,\n",
       " 'zpc': -1.7258261378415294,\n",
       " 'pzpc': 0.08437869601106657}"
      ]
     },
     "execution_count": 176,
     "metadata": {},
     "output_type": "execute_result"
    }
   ],
   "source": [
    "p6513(37,53,1000,1000)"
   ]
  },
  {
   "cell_type": "code",
   "execution_count": 177,
   "id": "bcc69443",
   "metadata": {},
   "outputs": [
    {
     "data": {
      "text/plain": [
       "(0.295993976328878, 0.01435227001061887, 0.9349132948757781)"
      ]
     },
     "execution_count": 177,
     "metadata": {},
     "output_type": "execute_result"
    }
   ],
   "source": [
    "p=random.uniform(0,1)\n",
    "q=random.uniform(0,1)\n",
    "\n",
    "pp = (p-q)**2/2/((p-q)/q - (np.log(p) - np.log(q)))\n",
    "pp,p**2,q**2"
   ]
  },
  {
   "cell_type": "code",
   "execution_count": 178,
   "id": "5c6d63c4",
   "metadata": {},
   "outputs": [
    {
     "data": {
      "text/plain": [
       "True"
      ]
     },
     "execution_count": 178,
     "metadata": {},
     "output_type": "execute_result"
    }
   ],
   "source": [
    "min(p**2,q**2) < pp < max(p**2,q**2)"
   ]
  },
  {
   "cell_type": "code",
   "execution_count": 179,
   "id": "88633771",
   "metadata": {},
   "outputs": [],
   "source": [
    "cnt = 0\n",
    "\n",
    "while(cnt < 3000):\n",
    "    p=random.uniform(0,1)\n",
    "    q=random.uniform(0,1)\n",
    "    pp = (p-q)**2/2/((p-q)/q - (np.log(p) - np.log(q)))\n",
    "    if((min(p**2,q**2) < pp < max(p**2,q**2)) == False):\n",
    "        print(p,q)\n",
    "        break\n",
    "    else:\n",
    "        cnt = cnt+1"
   ]
  }
 ],
 "metadata": {
  "kernelspec": {
   "display_name": "Python 3 (ipykernel)",
   "language": "python",
   "name": "python3"
  },
  "language_info": {
   "codemirror_mode": {
    "name": "ipython",
    "version": 3
   },
   "file_extension": ".py",
   "mimetype": "text/x-python",
   "name": "python",
   "nbconvert_exporter": "python",
   "pygments_lexer": "ipython3",
   "version": "3.8.8"
  }
 },
 "nbformat": 4,
 "nbformat_minor": 5
}
