{
 "cells": [
  {
   "cell_type": "code",
   "execution_count": 1,
   "id": "9547551a",
   "metadata": {},
   "outputs": [],
   "source": [
    "import numpy as np\n",
    "import pandas as pd\n",
    "\n",
    "import statsmodels.api as sm\n",
    "import statsmodels.stats.api as sms\n",
    "import pylab as py\n",
    "import scipy.linalg as la\n",
    "import statistics\n",
    "import scipy.stats as stats\n",
    "import scipy\n",
    "\n",
    "from math import gamma as tma\n",
    "import itertools\n",
    "from scipy.stats import laplace\n",
    "from scipy.stats import logistic\n",
    "from scipy.stats import cauchy\n",
    "from scipy.stats import binom\n",
    "from scipy.stats import weibull_min as weibull\n",
    "from scipy.stats import poisson\n",
    "from scipy.stats import gamma\n",
    "from scipy.stats import beta\n",
    "from scipy.stats import norm\n",
    "from scipy.stats import multivariate_normal as mnorm\n",
    "from scipy.stats import t as studt\n",
    "from scipy.stats import f as fdist\n",
    "from scipy.stats import chisquare as chisq\n",
    "from scipy.stats import chi2\n",
    "from scipy.stats import gaussian_kde as gkde\n",
    "from sklearn.neighbors import KernelDensity\n",
    "import math\n",
    "\n",
    "import seaborn as sns\n",
    "\n",
    "import matplotlib.pyplot as plt\n",
    "from matplotlib.cbook import boxplot_stats\n",
    "\n",
    "import warnings\n",
    "warnings.filterwarnings('ignore')"
   ]
  },
  {
   "cell_type": "markdown",
   "id": "4378e9ec",
   "metadata": {},
   "source": [
    "The newer version of text has slightly different set of problems than the older one. I am going by the newer version of the text."
   ]
  },
  {
   "cell_type": "markdown",
   "id": "881d4c4a",
   "metadata": {},
   "source": [
    "#### Exercise 5.3.1\n",
    "\n",
    "Let $X$ denote the mean of a random sample of size $81$ from a distribution that is $\\chi^2(18)$. Compute an approximate value of $P(17 < X < 19)$."
   ]
  },
  {
   "cell_type": "markdown",
   "id": "cbfe7067",
   "metadata": {},
   "source": [
    "For $\\chi^2(k)$, mean is $\\mu=k=18$ and variance is $\\sigma^2 = 2k = 36$. We need $P(9(17-18)/6 < 9(\\overline{X_n}-18)/6 < 9(19-18)/6) \\approx \\Phi(1.5)-\\Phi(-1.5)$"
   ]
  },
  {
   "cell_type": "code",
   "execution_count": 2,
   "id": "d0a00968",
   "metadata": {},
   "outputs": [
    {
     "data": {
      "text/plain": [
       "0.8663855974622838"
      ]
     },
     "execution_count": 2,
     "metadata": {},
     "output_type": "execute_result"
    }
   ],
   "source": [
    "norm.cdf(1.5,0,1)-norm.cdf(-1.5,0,1)"
   ]
  },
  {
   "cell_type": "markdown",
   "id": "dfc007b4",
   "metadata": {},
   "source": [
    "#### Exercise 5.3.2\n",
    "\n",
    "Let $X$ denote the mean of a random sample of size $144$ from a gamma distribution with $\\alpha = 1$ and $\\beta = 9$. Approximate $P (8 < X < 11)$."
   ]
  },
  {
   "cell_type": "markdown",
   "id": "e62c9f35",
   "metadata": {},
   "source": [
    "A similar approach using CLT shows that it is $\\Phi(8/3)-\\Phi(-4/3)$."
   ]
  },
  {
   "cell_type": "code",
   "execution_count": 3,
   "id": "65026b18",
   "metadata": {},
   "outputs": [
    {
     "data": {
      "text/plain": [
       "0.9049583997065423"
      ]
     },
     "execution_count": 3,
     "metadata": {},
     "output_type": "execute_result"
    }
   ],
   "source": [
    "norm.cdf(8/3,0,1)-norm.cdf(-4/3,0,1)"
   ]
  },
  {
   "cell_type": "markdown",
   "id": "d6076aeb",
   "metadata": {},
   "source": [
    "#### Exercise 5.3.3. \n",
    "\n",
    "Let $Y$ be $b(48, 1/4 )$. Approximate $P (8 \\leq Y \\leq 12)$."
   ]
  },
  {
   "cell_type": "markdown",
   "id": "f303402e",
   "metadata": {},
   "source": [
    "Just like in Example $5.3.4$, answer is $\\Phi(0.5/3)-\\Phi(-8.5/3)$"
   ]
  },
  {
   "cell_type": "code",
   "execution_count": 4,
   "id": "30efe4f8",
   "metadata": {},
   "outputs": [
    {
     "data": {
      "text/plain": [
       "0.4993766313420456"
      ]
     },
     "execution_count": 4,
     "metadata": {},
     "output_type": "execute_result"
    }
   ],
   "source": [
    "norm.cdf(0.5/3,0,1)-norm.cdf(-4.5/3,0,1)"
   ]
  },
  {
   "cell_type": "markdown",
   "id": "cf35504d",
   "metadata": {},
   "source": [
    "#### Exercise 5.3.4. \n",
    "\n",
    "Compute an approximate probability that the mean of a random sample of size $24$ from a distribution having pdf $f(x) = 3x^2$, $0 < x < 1$, zero elsewhere, is between $7/10$ and $8/10$."
   ]
  },
  {
   "cell_type": "code",
   "execution_count": 5,
   "id": "1458793c",
   "metadata": {},
   "outputs": [
    {
     "data": {
      "text/plain": [
       "0.7940967892679316"
      ]
     },
     "execution_count": 5,
     "metadata": {},
     "output_type": "execute_result"
    }
   ],
   "source": [
    "norm.cdf(2*np.sqrt(10)/5,0,1)-norm.cdf(-2*np.sqrt(10)/5,0,1)"
   ]
  },
  {
   "cell_type": "markdown",
   "id": "db454a7c",
   "metadata": {},
   "source": [
    "#### Exercise 5.3.5. \n",
    "\n",
    "Let $Y$ denote the sum of the observations of a random sample of size $20$ from a distribution having pmf $p(x) = 1/5$ , $x = 1, 2, 3, 4, 5$ zero elsewhere. Compute an approximate value of $P (60 \\leq Y \\leq 70)$.\n",
    "Hint: Since the event of interest is $Y = 60,61,...,70,$ rewrite the probability as $P(59.5<Y <70.5)$."
   ]
  },
  {
   "cell_type": "markdown",
   "id": "d306574d",
   "metadata": {},
   "source": [
    "$\\mu_X = 3$, $\\sigma_X = \\sqrt{2}$, so $\\mu_Y = 60$, $\\sigma_Y = \\sqrt{40}$. Assuming $(Y-\\mu_Y)/\\sigma_Y = N(0,1)$, the desired probability is $\\Phi(10.5/\\sqrt{40})-\\Phi(-0.5/\\sqrt{40})$"
   ]
  },
  {
   "cell_type": "code",
   "execution_count": 6,
   "id": "867f887d",
   "metadata": {},
   "outputs": [
    {
     "data": {
      "text/plain": [
       "0.4830687965011224"
      ]
     },
     "execution_count": 6,
     "metadata": {},
     "output_type": "execute_result"
    }
   ],
   "source": [
    "norm.cdf(10.5/np.sqrt(40),0,1)-norm.cdf(-0.5/np.sqrt(40),0,1)"
   ]
  },
  {
   "cell_type": "markdown",
   "id": "b6464f7d",
   "metadata": {},
   "source": [
    "#### Exercise 5.3.6. \n",
    "\n",
    "Let $Y$ be $b(500, 1/4 )$. Compute an approximate value of $P (0.2 < Y /500)$."
   ]
  },
  {
   "cell_type": "markdown",
   "id": "cb61b0aa",
   "metadata": {},
   "source": [
    "$\\mu_Y = 125$, $\\sigma_Y = 10$. So $(Y-125)/10 = N(0,1)$. The desired probability is $1-\\Phi(-2.5)$"
   ]
  },
  {
   "cell_type": "code",
   "execution_count": 7,
   "id": "a6ba0706",
   "metadata": {},
   "outputs": [
    {
     "data": {
      "text/plain": [
       "0.9937903346742238"
      ]
     },
     "execution_count": 7,
     "metadata": {},
     "output_type": "execute_result"
    }
   ],
   "source": [
    "1-norm.cdf(-2.5,0,1)"
   ]
  },
  {
   "cell_type": "code",
   "execution_count": 8,
   "id": "81a8c5c6",
   "metadata": {},
   "outputs": [
    {
     "data": {
      "text/plain": [
       "0.9928571892647285"
      ]
     },
     "execution_count": 8,
     "metadata": {},
     "output_type": "execute_result"
    }
   ],
   "source": [
    "# With continuity correction\n",
    "y=(100.5-125)/10\n",
    "1-norm.cdf(y,0,1)"
   ]
  },
  {
   "cell_type": "markdown",
   "id": "76f37ca3",
   "metadata": {},
   "source": [
    "#### Exercise 5.3.7. \n",
    "\n",
    "If $Y$ is $b(200, 1/2 )$, approximate the value of $P (Y = 100)$."
   ]
  },
  {
   "cell_type": "markdown",
   "id": "9c8f3415",
   "metadata": {},
   "source": [
    "$\\mu_Y = 100$, $\\sigma_Y = \\sqrt{50}$. So $(Y-100)/\\sqrt{50} = N(0,1)$. The desired probability is $\\Phi(0.5/\\sqrt{50})-\\Phi(-0.5/\\sqrt{50})$"
   ]
  },
  {
   "cell_type": "code",
   "execution_count": 9,
   "id": "4b836a5d",
   "metadata": {},
   "outputs": [
    {
     "data": {
      "text/plain": [
       "0.05637197779701664"
      ]
     },
     "execution_count": 9,
     "metadata": {},
     "output_type": "execute_result"
    }
   ],
   "source": [
    "norm.cdf(0.5/np.sqrt(50),0,1)-norm.cdf(-0.5/np.sqrt(50),0,1)"
   ]
  },
  {
   "cell_type": "markdown",
   "id": "1f21b4ac",
   "metadata": {},
   "source": [
    "#### Exercise 5.3.8. \n",
    "\n",
    "Let $Y$ be $b(n, 0.4)$. Find the smallest value of $n$ such that (approximately) $P(Y/n < 1/2) \\geq 0.95$."
   ]
  },
  {
   "cell_type": "markdown",
   "id": "724092e9",
   "metadata": {},
   "source": [
    "Here $Z = (Y-0.4n)/\\sqrt{0.4\\times0.6\\times n} \\approx N(0,1)$. So $P(Y/n < 1/2) = P(Z < 0.1\\sqrt{n/0.4/0.6}) = \\Phi(0.1\\sqrt{n/0.4/0.6}) \\geq 0.95 \\implies n \\geq \\left( \\sqrt{0.6 \\times 0.4} \\times \\Phi^{-1}(0.95)/0.1 \\right)^2$"
   ]
  },
  {
   "cell_type": "code",
   "execution_count": 10,
   "id": "91de4c37",
   "metadata": {},
   "outputs": [],
   "source": [
    "def dx(a,t):\n",
    "    return (norm.cdf(a, loc=0, scale=1)-t)\n",
    "def invert_norm(t):\n",
    "    a = 10.0\n",
    "    b = -10.0\n",
    "    c = (a+b)/2\n",
    "    tol = 0.00001\n",
    "\n",
    "    while(abs(dx(c,t)) > tol):\n",
    "        c = (a+b)/2\n",
    "        if(dx(c,t) > 0):\n",
    "            a = c\n",
    "        else:\n",
    "            b = c\n",
    "    return c"
   ]
  },
  {
   "cell_type": "code",
   "execution_count": 11,
   "id": "47f0cc16",
   "metadata": {},
   "outputs": [
    {
     "data": {
      "text/plain": [
       "64.93650376796721"
      ]
     },
     "execution_count": 11,
     "metadata": {},
     "output_type": "execute_result"
    }
   ],
   "source": [
    "(np.sqrt(0.4*0.6)*invert_norm(0.95)/0.1)**2"
   ]
  },
  {
   "cell_type": "markdown",
   "id": "79c98481",
   "metadata": {},
   "source": [
    "So $n \\geq 65$."
   ]
  },
  {
   "cell_type": "markdown",
   "id": "bcca4741",
   "metadata": {},
   "source": [
    "#### Exercise 5.3.9. \n",
    "\n",
    "Let $f(x) = 1/x^2$, $1 < x < \\infty,$ zero elsewhere, be the pdf of a random variable $X$. Consider a random sample of size $50$ from the distribution having this pdf. Compute approximately the probability that $20$ of the observations of the random sample are less than 2.\n"
   ]
  },
  {
   "cell_type": "markdown",
   "id": "0684e8e1",
   "metadata": {},
   "source": [
    "$P(X) < 2 = \\int_1^2 1/x^2 dx = 1/2$. With fifty of these, the distribution of number of samples less than $2$, say $Y$, is $b(50,1/2)$. We need $P(Y) = 20$ for which the procedure is exactly as in Exercise $5.3.7$."
   ]
  },
  {
   "cell_type": "code",
   "execution_count": 12,
   "id": "bac7ed71",
   "metadata": {
    "scrolled": true
   },
   "outputs": [
    {
     "data": {
      "text/plain": [
       "0.04164842857562482"
      ]
     },
     "execution_count": 12,
     "metadata": {},
     "output_type": "execute_result"
    }
   ],
   "source": [
    "norm.cdf(-4.5*np.sqrt(2)/5,0,1)-norm.cdf(-5.5/5*np.sqrt(2),0,1)"
   ]
  },
  {
   "cell_type": "markdown",
   "id": "cba8b91a",
   "metadata": {},
   "source": [
    "#### Exercise 5.3.10. \n",
    "\n",
    "Seventy-two measurements are recorded to several decimal places. Each of\n",
    "these $72$ numbers is rounded off to the nearest integer. The sum of the original $72$\n",
    "numbers is approximated by the sum of these integers. If we assume that the errors\n",
    "made by rounding off are iid and have a uniform distribution over the interval\n",
    "$(−1/2,1/2)$, compute approximately the probability that the sum of the integers is\n",
    "within two units of the true sum."
   ]
  },
  {
   "cell_type": "markdown",
   "id": "a85bceac",
   "metadata": {},
   "source": [
    "Error in each measurement is $E_i$ which is uniformly distributed in $(-1/2,1/2)$. The mean is zero and variance is $1/12$. Hence $Y = \\Sigma_{i=1}^{72} E_i$ has zero mean and variance of $72/12=6$. The random variable $Y/\\sqrt{6} \\approx N(0,1)$. We need $P(-2 < Y < 2) = P(-2/\\sqrt{6} < Y/\\sqrt{6} < 2/\\sqrt{6}) \\approx \\Phi(2/\\sqrt{6})-\\Phi(-2/\\sqrt{6})$"
   ]
  },
  {
   "cell_type": "code",
   "execution_count": 16,
   "id": "791aa5a3",
   "metadata": {},
   "outputs": [
    {
     "data": {
      "text/plain": [
       "0.5857838217574747"
      ]
     },
     "execution_count": 16,
     "metadata": {},
     "output_type": "execute_result"
    }
   ],
   "source": [
    "n=72\n",
    "norm.cdf(2/np.sqrt(n/12),0,1)-norm.cdf(-2/np.sqrt(n/12),0,1)"
   ]
  },
  {
   "cell_type": "markdown",
   "id": "ce6492af",
   "metadata": {},
   "source": [
    "#### Exercise 5.3.11. \n",
    "We know that $\\overline{X}$ is approximately $N(\\mu,\\sigma^2/n)$ for large $n$. Find the approximate distribution of $u(\\overline{X}) = \\overline{X}^4$, provided that $\\mu \\neq 0$."
   ]
  },
  {
   "cell_type": "markdown",
   "id": "19bf3315",
   "metadata": {},
   "source": [
    "We are given that $$\\sqrt{n}\\frac{\\overline{X}-\\mu}{\\sigma} \\sim N(0,1).$$ Let $g(x)=x^4$, a continuous and differentiable function for each $x \\in \\mathbb{R}$. Then $g'(x) = 4x^3$. We can use the delta method to get that $$\\sqrt{n}\\frac{\\overline{X}^4-\\mu^4}{\\sqrt{\\sigma^2 \\times 16\\mu^6}} \\sim N(0,1)$$ that is $$\\overline{X}^4 \\sim N(\\mu^4,\\frac{16\\mu^6\\sigma^2}{n}).$$"
   ]
  },
  {
   "cell_type": "markdown",
   "id": "4d75d884",
   "metadata": {},
   "source": [
    "#### Exercise 5.3.12. \n",
    "Let $X_1,X_2,...,X_n$ be a random sample from a Poisson distribution with mean $\\mu$. Thus, $Y = 􏰋\\Sigma_{i=1}^n X_i$ has a Poisson distribution with mean $n\\mu$. Moreover $\\overline{X} = Y/n$ is approximately $N(\\mu,\\mu/n)$ for large $n$. Show that $u(Y/n) = \\sqrt{Y/n}$ is a function of $Y/n$ whose variance is essentially free of $\\mu$."
   ]
  },
  {
   "cell_type": "markdown",
   "id": "4a2e8257",
   "metadata": {},
   "source": [
    "Just like in the previous exercise, it is a simple exercise involving the application of the delta method to show that $\\overline{X} \\sim N(\\sqrt{\\mu},\\frac{1}{4n})$, which has the variance free of $\\mu$."
   ]
  },
  {
   "cell_type": "markdown",
   "id": "396752df",
   "metadata": {},
   "source": [
    "Last two exercises are also fairly trivial and solutions can be found in Tomoki Okuno's website https://tomoki-okuno.com/#math"
   ]
  },
  {
   "cell_type": "code",
   "execution_count": null,
   "id": "f4e40d66",
   "metadata": {},
   "outputs": [],
   "source": []
  }
 ],
 "metadata": {
  "kernelspec": {
   "display_name": "Python 3 (ipykernel)",
   "language": "python",
   "name": "python3"
  },
  "language_info": {
   "codemirror_mode": {
    "name": "ipython",
    "version": 3
   },
   "file_extension": ".py",
   "mimetype": "text/x-python",
   "name": "python",
   "nbconvert_exporter": "python",
   "pygments_lexer": "ipython3",
   "version": "3.8.8"
  }
 },
 "nbformat": 4,
 "nbformat_minor": 5
}
