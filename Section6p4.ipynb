{
 "cells": [
  {
   "cell_type": "code",
   "execution_count": 1,
   "id": "fb0572b2",
   "metadata": {},
   "outputs": [],
   "source": [
    "import numpy as np\n",
    "import pandas as pd\n",
    "\n",
    "import statsmodels.api as sm\n",
    "import statsmodels.stats.api as sms\n",
    "import pylab as py\n",
    "import scipy.linalg as la\n",
    "import statistics\n",
    "import scipy.stats as stats\n",
    "import scipy\n",
    "\n",
    "from math import gamma as tma\n",
    "import itertools\n",
    "from scipy.stats import laplace\n",
    "from scipy.stats import logistic\n",
    "from scipy.stats import cauchy\n",
    "from scipy.stats import binom\n",
    "from scipy.stats import weibull_min as weibull\n",
    "from scipy.stats import poisson\n",
    "from scipy.stats import gamma\n",
    "from scipy.stats import beta\n",
    "from scipy.stats import norm\n",
    "from scipy.stats import multivariate_normal as mnorm\n",
    "from scipy.stats import t as studt\n",
    "from scipy.stats import f as fdist\n",
    "from scipy.stats import chisquare as chisq\n",
    "from scipy.stats import chi2\n",
    "from scipy.stats import gaussian_kde as gkde\n",
    "from sklearn.neighbors import KernelDensity\n",
    "import math\n",
    "import sympy as sym\n",
    "\n",
    "import seaborn as sns\n",
    "\n",
    "import matplotlib.pyplot as plt\n",
    "from matplotlib.cbook import boxplot_stats\n",
    "\n",
    "import warnings\n",
    "warnings.filterwarnings('ignore')"
   ]
  },
  {
   "cell_type": "markdown",
   "id": "9f8cffca",
   "metadata": {},
   "source": [
    "#### Exercise 6.4.1. \n",
    "\n",
    "A survey is taken of the citizens in a city as to whether or not they support the zoning plan that the city council is considering. The responses are: Yes, No, Indifferent, and Otherwise. Let $p_1,p_2,p_3,$ and $p_4$ denote the respective true probabilities of these responses. The results of the survey are:\n",
    "\n",
    "|Yes|No|Indifferent|Otherwise|\n",
    "|:-:|:-:|:-:|:-:|\n",
    "|60|45|70|25|\n",
    "\n",
    "(a) Obtain the mles of $p_i, i = 1,...,4$.\n",
    "\n",
    "(b) Obtain $95\\%$ confidence intervals, $(4.2.7),$ for $p_i , i = 1, ... , 4$."
   ]
  },
  {
   "cell_type": "markdown",
   "id": "5be114ec",
   "metadata": {},
   "source": [
    "This is just a direct application of equation $(6.4.22)$ relating to the example $6.4.5$ where the MLE is just the sample average."
   ]
  },
  {
   "cell_type": "code",
   "execution_count": 2,
   "id": "6a5348e6",
   "metadata": {},
   "outputs": [
    {
     "name": "stdout",
     "output_type": "stream",
     "text": [
      "0.3 0.225 0.35 0.125\n"
     ]
    }
   ],
   "source": [
    "n = 60+45+70+25\n",
    "p1 = 60/n\n",
    "p2 = 45/n\n",
    "p3 = 70/n\n",
    "p4 = 25/n\n",
    "\n",
    "pmle = [p1,p2,p3,p4] \n",
    "print(p1,p2,p3,p4)"
   ]
  },
  {
   "cell_type": "markdown",
   "id": "c14da820",
   "metadata": {},
   "source": [
    "(a) MLEs are as listed below\n",
    "\n",
    "|$\\hat{p}_1$ (Yes)|$\\hat{p}_2$ (No)|$\\hat{p}_3$ (Indifferent)|$\\hat{p}_4$ (Otherwise)|\n",
    "|:-:|:-:|:-:|:-:|\n",
    "|0.3|0.225|0.35|0.125|"
   ]
  },
  {
   "cell_type": "code",
   "execution_count": 3,
   "id": "860cc611",
   "metadata": {},
   "outputs": [
    {
     "name": "stdout",
     "output_type": "stream",
     "text": [
      "0.23648874115560298 0.363511258844397\n",
      "0.16712604212601317 0.28287395787398684\n",
      "0.28389538594016295 0.416104614059837\n",
      "0.07916469701201923 0.17083530298798077\n"
     ]
    }
   ],
   "source": [
    "# Confidence intervals\n",
    "\n",
    "for i in range(len(pmle)):\n",
    "    pk = pmle[i]\n",
    "    sk = np.sqrt(pk*(1-pk)/n)\n",
    "    print(pk-1.96*sk,pk+1.96*sk)"
   ]
  },
  {
   "cell_type": "markdown",
   "id": "ede8e419",
   "metadata": {},
   "source": [
    "(b) Confidence intervals are as listed below\n",
    "\n",
    "|$\\hat{p}_1$ (Yes)|$\\hat{p}_2$ (No)|$\\hat{p}_3$ (Indifferent)|$\\hat{p}_4$ (Otherwise)|\n",
    "|:-:|:-:|:-:|:-:|\n",
    "|(0.2365,0.3635)|(0.1671,0.2828)|(0.2839,0.4161)|(0.0791,0.1708)|"
   ]
  },
  {
   "cell_type": "markdown",
   "id": "1346af18",
   "metadata": {},
   "source": [
    "Tomoki Okuno has solutions for exercises from 6.4.2 till 6.4.6."
   ]
  },
  {
   "cell_type": "markdown",
   "id": "1f167344",
   "metadata": {},
   "source": [
    "#### Exercise 6.4.7\n",
    "\n",
    "The data file normal50.rda contains a random sample of size $n = 50$ for the situation described in Exercise $6.4.6.$ Download this data in R and obtain a histogram of the observations.\n",
    "\n",
    "(a) In part (b) of Exercise $6.4.6$, let $c=58$ and let $\\xi=P(X\\leq c).$ Based on the data, compute the estimated value of the mle for $\\xi$. Compare this estimate with the sample proportion, $\\hat{p}$, of the data less than or equal to 58.\n",
    "\n",
    "(b) The R function bootstrapcis64.R computes a bootstrap confidence interval for the mle. Use this function to compute a $95\\%$ confidence interval for $\\xi$. Compare your interval with that of expression $(4.2.7)$ based on $\\hat{p}$."
   ]
  },
  {
   "cell_type": "code",
   "execution_count": 4,
   "id": "0cfb11c0",
   "metadata": {},
   "outputs": [],
   "source": [
    "data = pd.read_csv('data/normal50.csv')\n",
    "data = data[['x']].copy()\n",
    "data.rename(columns={'x': 'X'}, inplace=True)"
   ]
  },
  {
   "cell_type": "code",
   "execution_count": 5,
   "id": "a4587d64",
   "metadata": {},
   "outputs": [
    {
     "data": {
      "image/png": "[encoded data removed]",
      "text/plain": [
       "<Figure size 1008x576 with 1 Axes>"
      ]
     },
     "metadata": {
      "needs_background": "light"
     },
     "output_type": "display_data"
    }
   ],
   "source": [
    "plt.figure(figsize=(14,8))\n",
    "\n",
    "plt.hist(data['X'],bins=5,color='r',density=False)\n",
    "plt.xlabel('X',fontsize=14)\n",
    "plt.ylabel('Frquency',fontsize=14)\n",
    "plt.grid()\n",
    "plt.show()"
   ]
  },
  {
   "cell_type": "code",
   "execution_count": 6,
   "id": "1517b4bc",
   "metadata": {},
   "outputs": [],
   "source": [
    "def bootstrap_cis64(x, c, nb=3000, alp2=0.025):\n",
    "    # Bootstrap CI for P(X <= c) based on mle for a normal\n",
    "    # distribution. Sample is in x.\n",
    "    # Converted R to Python using the online code converter at https://www.codeconvert.ai/r-to-python-converter\n",
    "    \n",
    "    n = len(x)\n",
    "    xb = np.mean(x)\n",
    "    sb = np.sqrt(((n - 1) / n) * np.var(x, ddof=1))\n",
    "    est = norm.cdf((c - xb) / sb)\n",
    "\n",
    "    collest = []\n",
    "    for i in range(nb):\n",
    "        xr = np.random.choice(x, size=50, replace=True)\n",
    "        xb = np.mean(xr)\n",
    "        sb = np.sqrt(((n - 1) / n) * np.var(xr, ddof=1))\n",
    "        estr = norm.cdf((c - xb) / sb)\n",
    "        collest.append(estr)\n",
    "\n",
    "    colls = np.sort(collest)\n",
    "    cut = round(nb * alp2)\n",
    "    lb = colls[cut]\n",
    "    ub = colls[nb - cut]\n",
    "    \n",
    "    return [est, lb, ub]"
   ]
  },
  {
   "cell_type": "code",
   "execution_count": 7,
   "id": "86889072",
   "metadata": {},
   "outputs": [
    {
     "data": {
      "text/plain": [
       "(0.76, 0.7263200299258483)"
      ]
     },
     "execution_count": 7,
     "metadata": {},
     "output_type": "execute_result"
    }
   ],
   "source": [
    "# (a)\n",
    "\n",
    "c = 58\n",
    "nx = len(data)\n",
    "xb = np.mean(data['X'])\n",
    "sb = np.sqrt(np.sum((data['X']-xb)*(data['X']-xb))/(nx))\n",
    "xh = norm.cdf((c-xb)/sb)\n",
    "ph = len(data.loc[data['X'] < c])/nx\n",
    "ph,xh"
   ]
  },
  {
   "cell_type": "code",
   "execution_count": 8,
   "id": "fc872ba2",
   "metadata": {},
   "outputs": [
    {
     "name": "stdout",
     "output_type": "stream",
     "text": [
      "(0.6223278304778602, 0.8249136621075155)\n",
      "(0.6416185960549546, 0.8783814039450454)\n"
     ]
    }
   ],
   "source": [
    "# b\n",
    "\n",
    "[xh_bootstrap,ll,lu] = bootstrap_cis64(data['X'],c)\n",
    "\n",
    "print((ll,lu))\n",
    "\n",
    "sigph = np.sqrt(ph*(1-ph)/nx)\n",
    "print((ph-1.96*sigph,ph+1.96*sigph))"
   ]
  },
  {
   "cell_type": "markdown",
   "id": "1037a1a7",
   "metadata": {},
   "source": [
    "Following is from the answers at the end of the book:\n",
    "\n",
    "$6.4.7$ (a) mle is $0.7263$, $p = 0.76$. \n",
    "\n",
    "A run of BS: $(0.629, 0.828).$ \n",
    "\n",
    "Via $\\hat{p}$ : $(0.642, 0.878).$"
   ]
  },
  {
   "cell_type": "markdown",
   "id": "3b0ffe78",
   "metadata": {},
   "source": [
    "#### Exercise 6.4.8. \n",
    "\n",
    "Consider Part (a) of Exercise $6.4.6.$\n",
    "\n",
    "(a) Using the data of Exercise $6.4.7,$ compute the mle of $b$. Also obtain the estimate based on $\\textrm{90}^{\\textrm{th}}$ percentile of the data.\n",
    "\n",
    "(b) Edit the R function bootstrapcis64.R to compute a bootstrap confidence interval for $b$. Then run your R function on the data of Exercise $6.4.7$ to compute a $95\\%$ confidence interval for $b$."
   ]
  },
  {
   "cell_type": "markdown",
   "id": "5eada0c3",
   "metadata": {},
   "source": [
    "Following is from the answers section at the end of the book:\n",
    "\n",
    "$6.4.8$ (a) mle is $64.83$, $x_{(45)} = 64.6$"
   ]
  },
  {
   "cell_type": "code",
   "execution_count": 9,
   "id": "4fd635a8",
   "metadata": {},
   "outputs": [],
   "source": [
    "def dx(a,t):\n",
    "    return (norm.cdf(a, loc=0, scale=1)-t)\n",
    "def invert_norm(t):\n",
    "    a = 10.0\n",
    "    b = -10.0\n",
    "    c = (a+b)/2\n",
    "    tol = 0.00001\n",
    "\n",
    "    while(abs(dx(c,t)) > tol):\n",
    "        c = (a+b)/2\n",
    "        if(dx(c,t) > 0):\n",
    "            a = c\n",
    "        else:\n",
    "            b = c\n",
    "    return c"
   ]
  },
  {
   "cell_type": "code",
   "execution_count": 10,
   "id": "83b489ef",
   "metadata": {},
   "outputs": [
    {
     "name": "stdout",
     "output_type": "stream",
     "text": [
      "(64.82891835793365, 64.6, 64.6)\n"
     ]
    }
   ],
   "source": [
    "# (a)\n",
    "y = invert_norm(0.9)\n",
    "bh = xb+y*sb\n",
    "data['Y'] = np.sort(data['X'])\n",
    "print((bh,np.percentile(data['X'],90,interpolation='lower'),data['Y'].iloc[44]))"
   ]
  },
  {
   "cell_type": "code",
   "execution_count": 11,
   "id": "f8800bce",
   "metadata": {},
   "outputs": [],
   "source": [
    "# b\n",
    "\n",
    "def bootstrapci_percentile(x, t=0.9, nb=3000, alp2=0.025):\n",
    "    # Bootstrap CI for b where b is s.t P(X <= b) = t (=0.9) based on mle for a normal\n",
    "    # distribution. Sample is in x.\n",
    "    # Converted R to Python using the online code converter at https://www.codeconvert.ai/r-to-python-converter\n",
    "    \n",
    "    n = len(x)\n",
    "    collest = []\n",
    "    est = np.percentile(x,100*t,interpolation='lower')\n",
    "    \n",
    "    for i in range(nb):\n",
    "        xr = np.random.choice(x, size=50, replace=True)\n",
    "        estr = np.percentile(xr,100*t,interpolation='lower')\n",
    "        collest.append(estr)\n",
    "\n",
    "    colls = np.sort(collest)\n",
    "    cut = round(nb * alp2)\n",
    "    lb = colls[cut]\n",
    "    ub = colls[nb - cut]\n",
    "    \n",
    "    return [est, lb, ub]"
   ]
  },
  {
   "cell_type": "code",
   "execution_count": 12,
   "id": "bf952f4f",
   "metadata": {},
   "outputs": [
    {
     "name": "stdout",
     "output_type": "stream",
     "text": [
      "(59.4, 68.2)\n"
     ]
    }
   ],
   "source": [
    "[est_percentile,percl,perch] = bootstrapci_percentile(data['X'])\n",
    "print((percl,perch))"
   ]
  },
  {
   "cell_type": "markdown",
   "id": "d9d8bbde",
   "metadata": {},
   "source": [
    "#### Exercise 6.4.9\n",
    "\n",
    "Consider two Bernoulli distributions with unknown parameters $p_1$ and $p_2$. If $Y$ and $Z$ equal the numbers of successes in two independent random samples, each of size $n$, from the respective distributions, determine the mles of $p_1$ and $p_2$ if we know that $0 \\leq p_1 \\leq p_2 \\leq 1.$"
   ]
  },
  {
   "cell_type": "markdown",
   "id": "41780143",
   "metadata": {},
   "source": [
    "The following post on SE has the solution.\n",
    "\n",
    "https://math.stackexchange.com/a/4192451/145325\n",
    "\n",
    "Answer is \n",
    "\n",
    "$$(\\hat p_1, \\hat p_2) = \\begin{cases} \\left(\\frac{y}{n}, \\frac{z}{n}\\right), & y \\le z \\\\ \\left(\\frac{y+z}{2n}, \\frac{y+z}{2n}\\right), & y > z. \\end{cases}$$\n",
    "\n",
    "The constraint of $p_1 \\leq p_2$ brings about a slight twist in an otherwise routine solution."
   ]
  },
  {
   "cell_type": "markdown",
   "id": "a531b887",
   "metadata": {},
   "source": [
    "Tomoki Okuno has solution for 6.4.10\n",
    "\n",
    "6.4.11 is trivial. Solution of 6.4.12 is also trivial and solutions manual has comments under 6.4.10. But mainly, the issue is with arguing independence. My hunch is that MLEs are asymptotically normal with the covariance matrix being inverse of Fischer matrix. If $I(\\bf{\\theta})$ is diagonal, the covariances of this (asymptotically) normally distributed random vector are zero. Since covariance being zero implies independence in case of normal random variables, the MLEs are asymptotically independent."
   ]
  },
  {
   "cell_type": "markdown",
   "id": "6809bd9f",
   "metadata": {},
   "source": [
    "#### Exercise 6.4.13\n",
    "\n",
    "Suppose $X_1,X_2,...,X_n$ are iid $N(\\mu,\\sigma^2).$ Show that $X_i$ follows a location and scale family as given in Example $6.4.4.$ Obtain the entries of the information matrix as given in this example and show that they agree with the information matrix determined in Example $6.4.3.$"
   ]
  },
  {
   "cell_type": "markdown",
   "id": "ee492119",
   "metadata": {},
   "source": [
    "If we take $X_i = \\mu + \\sigma e_i$, where $e_i \\sim \\textrm{N(0,1)}$ and are iid, then $X_i \\sim \\textrm{N}(\\mu,\\sigma^2)$. So $\\{X_i\\}$ belong to location and scale family.\n",
    "\n",
    "Now $F(z) \\sim \\textrm{N}(0,1)$ which is symmetric about $0$. So Fischer matrix is a diagonal matrix. \n",
    "\n",
    "Now $f'(z)/f(z) = -z$ when $F(z) \\sim \\textrm{N}(0,1)$. Using equations $6.4.15$ and $6.4.16$, we can show diagonal entries to be $I_{11} = \\mathbb{E}(z^2)/\\sigma^2 = 1/\\sigma^2$ and $I_{22} = \\mathbb{E}((1-z^2)^2)/\\sigma^2 = (1+3-2)/\\sigma^2 = 2/\\sigma^2$. With $I_{12}=I_{21}=0$, this matches exactly with equation $6.4.13$"
   ]
  },
  {
   "cell_type": "code",
   "execution_count": null,
   "id": "a5000f43",
   "metadata": {},
   "outputs": [],
   "source": []
  }
 ],
 "metadata": {
  "kernelspec": {
   "display_name": "Python 3 (ipykernel)",
   "language": "python",
   "name": "python3"
  },
  "language_info": {
   "codemirror_mode": {
    "name": "ipython",
    "version": 3
   },
   "file_extension": ".py",
   "mimetype": "text/x-python",
   "name": "python",
   "nbconvert_exporter": "python",
   "pygments_lexer": "ipython3",
   "version": "3.8.8"
  }
 },
 "nbformat": 4,
 "nbformat_minor": 5
}
