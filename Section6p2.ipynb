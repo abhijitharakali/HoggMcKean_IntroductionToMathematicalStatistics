{
 "cells": [
  {
   "cell_type": "code",
   "execution_count": 2,
   "id": "9547551a",
   "metadata": {},
   "outputs": [],
   "source": [
    "import numpy as np\n",
    "import pandas as pd\n",
    "\n",
    "import statsmodels.api as sm\n",
    "import statsmodels.stats.api as sms\n",
    "import pylab as py\n",
    "import scipy.linalg as la\n",
    "import statistics\n",
    "import scipy.stats as stats\n",
    "import scipy\n",
    "\n",
    "from math import gamma as tma\n",
    "import itertools\n",
    "from scipy.stats import laplace\n",
    "from scipy.stats import logistic\n",
    "from scipy.stats import cauchy\n",
    "from scipy.stats import binom\n",
    "from scipy.stats import weibull_min as weibull\n",
    "from scipy.stats import poisson\n",
    "from scipy.stats import gamma\n",
    "from scipy.stats import beta\n",
    "from scipy.stats import norm\n",
    "from scipy.stats import multivariate_normal as mnorm\n",
    "from scipy.stats import t as studt\n",
    "from scipy.stats import f as fdist\n",
    "from scipy.stats import chisquare as chisq\n",
    "from scipy.stats import chi2\n",
    "from scipy.stats import gaussian_kde as gkde\n",
    "from sklearn.neighbors import KernelDensity\n",
    "import math\n",
    "import sympy as sym\n",
    "\n",
    "import seaborn as sns\n",
    "\n",
    "import matplotlib.pyplot as plt\n",
    "from matplotlib.cbook import boxplot_stats\n",
    "\n",
    "import warnings\n",
    "warnings.filterwarnings('ignore')"
   ]
  },
  {
   "cell_type": "markdown",
   "id": "50697f9a",
   "metadata": {},
   "source": [
    "#### Exercise 6.2.1\n",
    "\n",
    "Prove that $\\overline{X}$, the mean of a random sample of size $n$ from a distribution that is $N(\\theta,\\sigma^2)$, $−\\infty < \\theta < \\infty,$ is, for every known $\\sigma^2 > 0$, an efficient estimator of $\\theta$."
   ]
  },
  {
   "cell_type": "markdown",
   "id": "dc091a12",
   "metadata": {},
   "source": [
    "For samples from $N(\\theta,\\sigma^2)$, the Fischer information is easily computed as $I(\\theta) = 1/\\sigma^2$ so that Cramer-Rao Lower Bound is $1/(nI(\\theta)) = \\sigma^2/n.$ But the $var(\\overline(X)) = 1/(nI(\\theta)) = \\sigma^2/n$ so the estimator attains the lower bound. Hence it is efficient for all $\\sigma^2 > 0$."
   ]
  },
  {
   "cell_type": "markdown",
   "id": "a4e564a8",
   "metadata": {},
   "source": [
    "#### Exercise 6.2.2\n",
    "\n",
    "Given $f(x;\\theta) = 1/\\theta$, $0 < x < \\theta$, zero elsewhere, with $\\theta > 0$, formally compute the reciprocal of $$ nE \\left \\{ \\left [ \\cfrac { \\partial \\log f(X:\\theta)}{ \\partial \\theta}  \\right ]^2 \\right \\}, $$\n",
    "Compare this with the variance of $(n + 1)Y_n /n$, where $Y_n$ is the largest observation of a random sample of size $n$ from this distribution. Comment.\n",
    "\n",
    "The score function is basically $\\frac{\\partial \\log f(X:\\theta)}{ \\partial \\theta} = -1/\\theta$ so that the required expectation is $$ nE \\left \\{ \\left [ \\cfrac { \\partial \\log f(X:\\theta)}{ \\partial \\theta}  \\right ]^2 \\right \\} = \\frac{n}{\\theta^2} $$ which means the lower bound is $\\theta^2/n.$ \n",
    "\n",
    "Now for $Y_n$, we have its cdf $F_{Y_n}(y) = (y/\\theta)^n$ using which the variance of $(n + 1)Y_n /n$ is computed as $\\theta^2/[n (n+2)]$ which is lower than the lower bound. This is perhaps because regularity conditions are not satisfied."
   ]
  },
  {
   "cell_type": "markdown",
   "id": "d6e54d91",
   "metadata": {},
   "source": [
    "#### Exercise 6.2.3\n",
    "\n",
    "Given the pdf $$f(x;θ)= \\cfrac{1}{[1+\\pi (x - \\theta)^2]},$$ $−\\infty < \\theta < \\infty,$ and $−\\infty < x < \\infty,$ show that the Rao–Cramer lower bound is $2/n$, where $n$ is the size of a random sample from this Cauchy distribution. What is the asymptotic distribution of $ \\sqrt{n} ( \\hat{\\theta} − \\theta )$ if $\\hat{\\theta}$ is the mle of $\\theta$?\n",
    "\n",
    "The integral of the square of score function, ie that of the Fischer information expectation integral, is a nasty integral.\n",
    "\n",
    "$$I(\\theta) = \\int_{-\\infty}^{\\infty} \\frac{4(x-\\theta)^2}{\\pi[1+(x-\\theta)^2]^3}dx.$$ The entire integral is evaluated in the solutions manual but I don't see the value in sweating through it. \n",
    "\n",
    "A cool technique is described by \"whuber\" in the comment to the answer in https://stats.stackexchange.com/a/145050/183497\n",
    "\n",
    "$I(\\theta)$ ends up being $1/2$.\n",
    "\n",
    "From Theorem $6.2.2$, $ \\sqrt{n} ( \\hat{\\theta} − \\theta ) \\xrightarrow{D} N(0,1/I(\\theta))$ i.e $ \\sqrt{n} ( \\hat{\\theta} − \\theta ) \\xrightarrow{D} N(0,2)$. "
   ]
  },
  {
   "cell_type": "markdown",
   "id": "424d8940",
   "metadata": {},
   "source": [
    "#### Exercise 6.2.4. \n",
    "\n",
    "Consider Example $6.2.2,$ where we discussed the location model.\n",
    "\n",
    "(a) Write the location model when $e_i$ has the logistic pdf given in expression $(4.4.11).$\n",
    "\n",
    "(b) Using expression $(6.2.8),$ show that the information $I(\\theta) = 1/3$ for the model in part (a)."
   ]
  },
  {
   "cell_type": "markdown",
   "id": "bfaa283a",
   "metadata": {},
   "source": [
    "(a) The logistic pdf is given by $f(x) = e^{-x}/(1+e^{-x})^2,$ $-\\infty < x < \\infty$. The equation $6.2.7$ is $X_i = \\theta + e_i$, $i = 1,2, \\cdots ,n,$ where $e_i$ are i.i.d and have the logistic pdf $f(x)$ given above.\n",
    "\n",
    "(b) From equation $6.2.8$, we get $$I(\\theta) = \\int_{-\\infty}^{\\infty} \\frac{e^{-z}(e^{-z} -1)^2}{(e^{-z} +1)^4} dz.$$ Substituting $y=e^{-x}+1$, we can evaluate the integral to get $I(\\theta) = 1/3.$"
   ]
  },
  {
   "cell_type": "markdown",
   "id": "354e0c60",
   "metadata": {},
   "source": [
    "#### Exercise 6.2.5. \n",
    "\n",
    "Using the same location model as in part (a) of Exercise $6.2.4$, obtain the ARE of the sample median to mle of the model.\n",
    "\n",
    "With $I(\\theta) = 1/3$, asymptotic variance of the mle by Theorem $6.2.2$ is $1/(nI(\\theta)) = 3/n$, while that of the sample median, based on the hint, is $1/n$. So the ARE turns out to be $(1/n)/(3/n) = 1/3$."
   ]
  },
  {
   "cell_type": "markdown",
   "id": "2ffed2e6",
   "metadata": {},
   "source": [
    "#### Exercise 6.2.6. \n",
    "\n",
    "Consider a location model (Example $6.2.2$) when the error pdf is the contaminated normal $(3.4.17)$ with $\\epsilon$ as the proportion of contamination and with $\\sigma_c^2$ as the variance of the contaminated part. Show that the ARE of the sample median to the sample mean is given by\n",
    "\n",
    "$$e(Q2,\\overline{X}) = \\frac{ 2[1 + \\epsilon(\\sigma_c^2 − 1)][1 − ε + (ε/σ_c)]^2 }{\\pi}.$$ Use the hint in Exercise 6.2.5 for the median.\n",
    "\n",
    "(a) If $σ_c^2 = 9,$ use $(6.2.34)$ to fill in the following table:\n",
    "\n",
    "|$$\\epsilon$$|0|0.05|0.1|0.15|\n",
    "|---|---|---|---|---|\n",
    "|$$e(Q2,\\overline{X})$$ |||||\n",
    "\n",
    "(b) Notice from the table that the sample median becomes the “better” estimator when $\\epsilon$ increases from $0.10$ to $0.15$. Determine the value for $\\epsilon$ where this occurs. \\[this involves a third-degree polynomial in $\\epsilon$, so one way of obtaining the root is to use the Newton algorithm discussed around expression $(6.2.32)$\\]"
   ]
  },
  {
   "cell_type": "markdown",
   "id": "a40e182f",
   "metadata": {},
   "source": [
    "(a) Variance of contaminated normal distribution based on equation $(3.4.16)$ is $1+\\epsilon(\\sigma_c^2-1)$, and the value of $4[f(0)]^2 = 2(1-\\epsilon+\\epsilon/\\sigma_c^2)^2/\\pi$ and the result follows directly from equation $(6.2.27).$"
   ]
  },
  {
   "cell_type": "code",
   "execution_count": 3,
   "id": "e31f5753",
   "metadata": {},
   "outputs": [
    {
     "data": {
      "text/plain": [
       "[0.6366197723675814,\n",
       " 0.8328401333173225,\n",
       " 0.9982198030723677,\n",
       " 1.1344564343590302]"
      ]
     },
     "execution_count": 3,
     "metadata": {},
     "output_type": "execute_result"
    }
   ],
   "source": [
    "# (a)\n",
    "\n",
    "eps = [e/100 for e in range(0,16,5)]\n",
    "\n",
    "[2/np.pi*(1+e*(9-1))*(1-e+e/3)**2 for e in eps]"
   ]
  },
  {
   "cell_type": "markdown",
   "id": "66c9c8b1",
   "metadata": {},
   "source": [
    "|$$\\epsilon$$|0|0.05|0.1|0.15|\n",
    "|---|---|---|---|---|\n",
    "|$$e(Q2,\\overline{X})$$ |0.6366|0.8328|0.9982|1.1344|"
   ]
  },
  {
   "cell_type": "code",
   "execution_count": 4,
   "id": "1d7ae528",
   "metadata": {},
   "outputs": [],
   "source": [
    "# (b)\n",
    "\n",
    "def invert_are(eare):\n",
    "    el = 0\n",
    "    eh = 1\n",
    "    de = 1\n",
    "    while(de > 0.00001):\n",
    "        em = (el+eh)/2\n",
    "        earet = 2/np.pi*(1+em*(9-1))*(1-em+em/3)**2\n",
    "        de = np.abs(earet-eare)\n",
    "        if(earet > eare):\n",
    "            eh = em\n",
    "        else:\n",
    "            el = em\n",
    "    return em"
   ]
  },
  {
   "cell_type": "code",
   "execution_count": 5,
   "id": "312c7a6b",
   "metadata": {},
   "outputs": [
    {
     "data": {
      "text/plain": [
       "0.10059356689453125"
      ]
     },
     "execution_count": 5,
     "metadata": {},
     "output_type": "execute_result"
    }
   ],
   "source": [
    "invert_are(1)"
   ]
  },
  {
   "cell_type": "markdown",
   "id": "864e8482",
   "metadata": {},
   "source": [
    "Value at which it median and mean have ARE of one is $0.10059356689453125$"
   ]
  },
  {
   "cell_type": "markdown",
   "id": "ab4fe83c",
   "metadata": {},
   "source": [
    "#### Exercise 6.2.7\n",
    "\n",
    "Recall Exercise $6.1.1$ where $X_1, X_2, . . . , X_n$ is a random sample on $X$ that has a $\\Gamma(\\alpha = 4, \\beta = \\theta) $ distribution, $0 < θ < ∞.$"
   ]
  },
  {
   "cell_type": "markdown",
   "id": "95ebf06c",
   "metadata": {},
   "source": [
    "(a) Find the Fisher information $I(\\theta).$\n",
    "\n",
    "(b) Show that the mle of $\\theta$, which was derived in Exercise $6.1.1$, is an efficient estimator of $\\theta$.\n",
    "\n",
    "(c) Using Theorem $6.2.2$, obtain the asymptotic distribution of $\\sqrt{n}(\\hat{\\theta}􏰦 − \\theta).$\n",
    "\n",
    "(d) For the data of Example $6.1.1$, find the asymptotic $95\\%$ confidence interval\n",
    "for $\\theta$."
   ]
  },
  {
   "cell_type": "markdown",
   "id": "0e1e603d",
   "metadata": {},
   "source": [
    "(a) We have $$\\begin{align}I(\\theta) &= E \\left [ \\left \\{ \\cfrac { \\partial \\log{f(X:\\theta)}}{ \\partial \\theta} \\right \\}^2 \\right ] \\\\ &= E \\left [ \\left \\{ \\frac{X}{\\theta^2} - \\frac{4}{\\theta}  \\right \\}^2 \\right ] \\\\ &= \\frac{4}{\\theta^2} \\end{align}$$"
   ]
  },
  {
   "cell_type": "markdown",
   "id": "99c73d4d",
   "metadata": {},
   "source": [
    "(b) The MLE, $\\hat{\\theta} = \\overline{X}/4$, is such that $\\textrm{Var}(\\overline{X}/4) = \\theta^2/(4n) = 1/nI(\\theta)$. Hence it is an efficient estimator."
   ]
  },
  {
   "cell_type": "markdown",
   "id": "19a41572",
   "metadata": {},
   "source": [
    "(c) We know that $\\sqrt{n}(\\hat{\\theta}􏰦 − \\theta) \\xrightarrow{D} \\textrm{N}(0,1/I(\\theta)) = \\textrm{N}(0,\\theta^2/4).$"
   ]
  },
  {
   "cell_type": "markdown",
   "id": "aa888cd4",
   "metadata": {},
   "source": [
    "(d) The pivot random variable can be $\\sqrt{n}(\\hat{\\theta}􏰦 − \\theta)/(\\hat{\\theta}/2) \\xrightarrow{D} \\textrm{N}(0,1)$ because $\\theta/\\hat{\\theta} \\xrightarrow{D} 1$ by the weak law. The confidence interval can then be found as $$\\left ( \\hat{\\theta} \\pm 1.96 \\frac{\\hat{\\theta}}{2\\sqrt{n}} \\right ).$$"
   ]
  },
  {
   "cell_type": "code",
   "execution_count": 6,
   "id": "f97f00b2",
   "metadata": {},
   "outputs": [
    {
     "name": "stdout",
     "output_type": "stream",
     "text": [
      "(4.04412, 6.01588)\n"
     ]
    }
   ],
   "source": [
    "x=[9,39,38,23,8,47,21,22,18,10,17,22,14,9,5,26,11,31,15,25,9,29,28,19,8]\n",
    "tmle = np.mean(x)/4\n",
    "print((tmle*(1-1.96/2/np.sqrt(len(x))),tmle*(1+1.96/2/np.sqrt(len(x)))))"
   ]
  },
  {
   "cell_type": "markdown",
   "id": "b2b7df3c",
   "metadata": {},
   "source": [
    "#### Exercise 6.2.8\n",
    "\n",
    "Let $X$ be $N(0,\\theta),$ $0 < \\theta < \\infty.$\n",
    "\n",
    "(a) Find the Fisher information $I(\\theta).$\n",
    "\n",
    "(b) If $X_1,X_2,...,X_n$ is a random sample from this distribution, show that the mle of $\\theta$ is an efficient estimator of $\\theta$.\n",
    "  \n",
    "(c) What is the asymptotic distribution of $\\sqrt{n} ( \\hat{\\theta}􏰦 − \\theta )$?"
   ]
  },
  {
   "cell_type": "markdown",
   "id": "69420f11",
   "metadata": {},
   "source": [
    "(a) We have $$f(x;\\theta) = \\frac{e^{-x^2/2\\theta}}{\\sqrt{2\\pi \\theta}}.$$ Note that $\\theta = \\sigma^2$ where the normal distribution is $N(0,\\sigma^2)$ according to standard convention.\n",
    "\n",
    "Then the Fischer information $$\\begin{align}I(\\theta) &= E \\left [ \\left \\{ \\cfrac { \\partial \\log{f(X:\\theta)}}{ \\partial \\theta} \\right \\}^2 \\right ] \\\\ &= E \\left [ \\left \\{ \\frac{X^2}{2\\theta^2} - \\frac{1}{2\\theta}  \\right \\}^2 \\right ] \\\\ &= \\frac{1}{2\\theta^2} \\end{align}.$$\n",
    "\n",
    "(b) The MLE of $\\theta$ is given by $$\\hat{\\theta} = \\frac{\\sum_{i=1}^n X_i^2}{n}.$$\n",
    "Since $X_i^2/\\theta$ is distributed as $\\chi^2(1),$ we can conclude that $$ \\begin{align} Var \\{\\hat{\\theta}\\} &= Var \\left \\{\\frac{\\sum_{i=1}^n X_i^2}{n} \\right \\} \\\\ &= \\frac{ Var \\left \\{ \\sum_{i=1}^n X_i^2 \\right \\}}{n^2} \\\\ &= \\frac{2\\theta^2}{n} \\\\ &= \\frac{1}{nI(\\theta)}, \\end{align}$$ where we have used the fact that the variance of $\\chi^2(1) = 2$ so that variance of $X_i^2/\\theta$ is $2$ or that $Var \\{ X_i^2 \\} = 2\\theta.$\n"
   ]
  },
  {
   "cell_type": "markdown",
   "id": "cba33256",
   "metadata": {},
   "source": [
    "(c) We know that $\\sqrt{n}(\\hat{\\theta}􏰦 − \\theta) \\xrightarrow{D} \\textrm{N}(0,1/I(\\theta)) = \\textrm{N}(0,2\\theta^2).$"
   ]
  },
  {
   "cell_type": "markdown",
   "id": "26969878",
   "metadata": {},
   "source": [
    "#### Exercise 6.2.9\n",
    "\n",
    "If $X_1, X_2, ... , X_n$ is a random sample from a distribution with pdf\n",
    "\n",
    "$$ f(x) = \n",
    "\\left\\{\\begin{array}{ll}\n",
    "\\frac{3\\theta^3}{(x+\\theta)^4} & 0 < x < \\infty, \\: 0 < \\theta < \\infty \\\\\n",
    "0 & \\text { elsewhere, } \n",
    "\\end{array}\\right.\n",
    "$$\n",
    "\n",
    "show that $Y = 2X$ is an unbiased estimator of $\\theta$ and determine its efficiency."
   ]
  },
  {
   "cell_type": "markdown",
   "id": "2eab621f",
   "metadata": {},
   "source": [
    "First, we evaluate $$E(X_i) = \\int_0^{\\infty}\\frac{3\\theta^3x}{(x+\\theta)^4}dx$$ which after quite a bit of nasty integration steps results in $E(X_i) = \\theta/2$ for each $i \\in (1,2,...,n)$. As $\\{X_i\\}$ are a random sample, $E(\\overline{X}) = \\theta/2$ i.e $E(2\\overline{X}) = E(Y) = \\theta.$ \n",
    "\n",
    "The Fischer information $$\\begin{align}I(\\theta) &= E \\left [ \\left \\{ \\cfrac { \\partial \\log{f(X:\\theta)}}{ \\partial \\theta} \\right \\}^2 \\right ] \\\\ &= E \\left [ \\left \\{ \\frac{3}{\\theta} - \\frac{4}{x+\\theta}  \\right \\}^2 \\right ] \\\\ &= \\frac{3}{5\\theta^2}. \\end{align}$$\n",
    "\n",
    "Also, $$ \\begin{align} Var \\{\\hat{\\theta}\\} &= Var(2\\overline{X})\\\\ &= \\frac{4}{n}Var \\left \\{X_i \\right \\} \\\\ &=  \\frac{3\\theta^2}{n}, \\end{align}$$ so that $$e(\\hat{\\theta}) = \\frac{5}{9}.$$"
   ]
  },
  {
   "cell_type": "markdown",
   "id": "f8f71c80",
   "metadata": {},
   "source": [
    "#### Exercise 6.2.10\n",
    "\n",
    "Let $X_1, X_2, ... , X_n$ be a random sample from $N(0,\\theta)$ distribution. We want to estimate the standard deviation of $\\sqrt{\\theta}.$ Find the constant c so that $Y = c\\sum_{i=1}^n \\lvert X_i \\rvert$ is an unbiased estimator of $\\sqrt{\\theta}$ and find its efficiency."
   ]
  },
  {
   "cell_type": "markdown",
   "id": "ab90aed5",
   "metadata": {},
   "source": [
    "Let $\\sigma = \\sqrt{\\theta}.$ Then we are interested in the standard deviation of $\\sigma$.\n",
    "\n",
    "Now $$ \\begin{align} E( \\lvert X_i \\rvert) &= 2 \\int_0^{\\infty}\\frac{xe^{-x^2/2\\sigma^2}}{\\sigma\\sqrt{2\\pi}}dx \\\\ &= \\frac{\\sigma \\sqrt{2}}{\\sqrt{\\pi}}\\end{align}$$ so that $c = \\sqrt{\\pi/2}/n.$\n",
    "\n",
    "Also, $$ \\begin{align} Var( \\lvert X_i \\rvert) &= E(X_i^2) - [E(\\lvert X_i \\rvert)]^2 \\\\ &= \\sigma^2 - \\frac{2\\sigma^2}{\\pi}\\end{align}$$ so that $$Var(Y) = \\left ( \\frac{\\pi}{2}-1 \\right )\\sigma^2/n.$$\n",
    "\n",
    "As usual, the Fischer information $I(\\sigma)$ is $$\\begin{align}I(\\sigma) &= E \\left [ \\left \\{ \\cfrac { \\partial \\log{f(X:\\sigma)}}{ \\partial \\sigma} \\right \\}^2 \\right ] \\\\ &= E \\left [ \\left \\{ \\frac{X^2}{\\sigma^3} - \\frac{1}{\\sigma}  \\right \\}^2 \\right ] \\\\ &= \\frac{2}{\\sigma^2} \\end{align}.$$\n",
    "\n",
    "Hence efficiency of $Y$ from equation $6.2.26$ is $$\\begin{align} e(Y) &= \\frac{\\sigma^2/2n}{\\left ( \\frac{\\pi}{2}-1 \\right )\\sigma^2/n}\\\\ &= \\frac{1}{\\pi-2}.\\end{align}$$"
   ]
  },
  {
   "cell_type": "markdown",
   "id": "d641a6e4",
   "metadata": {},
   "source": [
    "#### Exercise 6.2.11\n",
    "\n",
    "Let $\\overline{X}$ be the mean of a random sample of size $n$ from a $N(\\theta,\\sigma^2)$ distribution, $-\\infty < \\theta < \\infty,$ $\\sigma^2 >0$. Assumethat $\\sigma^2$ is known. Show that $\\overline{X}^2−\\sigma^2/n$ is an unbiased estimator of $\\theta^2$ and find its efficiency."
   ]
  },
  {
   "cell_type": "markdown",
   "id": "5dce9130",
   "metadata": {},
   "source": [
    "So $\\overline{X} \\thicksim N(\\theta,\\sigma^2/n)$ which means $E(\\overline{X}^2) = \\theta^2 + \\sigma^2/n$, i.e.  $E(\\overline{X}^2 - \\sigma^2/n) = \\theta^2,$ making it an unbiased estimator of $\\theta^2$."
   ]
  },
  {
   "cell_type": "markdown",
   "id": "43da268e",
   "metadata": {},
   "source": [
    "Now $Var(\\overline{X}^2 -\\sigma^2/n) = Var(\\overline{X}^2) = 2\\sigma^4/n^2 + 4\\theta^2\\sigma^2/n$. "
   ]
  },
  {
   "cell_type": "markdown",
   "id": "279d20af",
   "metadata": {},
   "source": [
    "Regarding the Fisher information (to find the efficiency), the idea is to use Corollary $6.2.2.$ We know from solution of Exercise $6.2.1$ that the Fisher information $I(\\theta) = n/\\sigma^2$ for the mean of the distribution. We need the Fisher information for $I(\\theta^2)$. Applying Corollary $6.2.2$ gives $I(\\theta^2) = n/(4\\theta^2\\sigma^2)$. Using Equation $6.2.26$, the efficiency is given by $$e \\left ( \\overline{X}^2-\\sigma^2/n \\right ) = \\frac{4\\sigma^2\\theta^2}{2\\sigma^4/n+4\\theta^2\\sigma^2}.$$"
   ]
  },
  {
   "cell_type": "markdown",
   "id": "5aff2015",
   "metadata": {},
   "source": [
    "#### Exercise 6.2.12\n",
    "\n",
    "I won't type the solution here because Tomoki Okuno has the complete solution to this problem."
   ]
  },
  {
   "cell_type": "markdown",
   "id": "24860826",
   "metadata": {},
   "source": [
    "#### Exercise 6.2.13. \n",
    "\n",
    "The data file beta30.rda contains $30$ observations generated from a beta$(\\theta, 1)$ distribution, where $\\theta = 4$. The file can be downloaded at the site discussed in the Preface.\n",
    "\n",
    "(a) Obtain a histogram of the data using the argument $pr=T$. Overlay the pdf of a $\\beta(4, 1)$ pdf. Comment."
   ]
  },
  {
   "cell_type": "code",
   "execution_count": 7,
   "id": "63ee8650",
   "metadata": {},
   "outputs": [
    {
     "data": {
      "image/png": "[encoded data removed]",
      "text/plain": [
       "<Figure size 1008x576 with 1 Axes>"
      ]
     },
     "metadata": {
      "needs_background": "light"
     },
     "output_type": "display_data"
    }
   ],
   "source": [
    "beta30 = pd.read_csv('data/beta30.csv')\n",
    "\n",
    "x2 = np.sort(beta30['x'])\n",
    "\n",
    "a=4\n",
    "b=1\n",
    "y = beta.pdf(x2, a, b, loc=0, scale=1)\n",
    "\n",
    "plt.figure(figsize=(14,8))\n",
    "\n",
    "plt.hist(beta30['x'],bins=int(len(beta30)/5),color='r',density=True)\n",
    "plt.plot(x2,y,linewidth=2,color='g')\n",
    "plt.xlabel('Samples')\n",
    "plt.ylabel('Normalized Frquency')\n",
    "plt.grid()\n",
    "plt.show()"
   ]
  },
  {
   "cell_type": "markdown",
   "id": "490d0e96",
   "metadata": {},
   "source": [
    "(b) Using the results of Exercise $6.2.12,$ compute the maximum likelihood estimate based on the data."
   ]
  },
  {
   "cell_type": "code",
   "execution_count": 8,
   "id": "b0010997",
   "metadata": {},
   "outputs": [
    {
     "name": "stdout",
     "output_type": "stream",
     "text": [
      "3.5470715021659394\n"
     ]
    }
   ],
   "source": [
    "mysum = 0\n",
    "\n",
    "for x in list(beta30['x']):\n",
    "    mysum = mysum+np.log(x)\n",
    "\n",
    "tmle = -1*len(beta30['x'])/mysum\n",
    "print(tmle)"
   ]
  },
  {
   "cell_type": "markdown",
   "id": "0ae11989",
   "metadata": {},
   "source": [
    "(c) Using the confidence interval found in Part (c) of Exercise $6.2.12,$ compute the $95\\%$ confidence interval for $\\theta$ based on the data. Is the confidence interval successful?"
   ]
  },
  {
   "cell_type": "code",
   "execution_count": 9,
   "id": "39843a60",
   "metadata": {},
   "outputs": [],
   "source": [
    "n=2*len(beta30)"
   ]
  },
  {
   "cell_type": "code",
   "execution_count": 10,
   "id": "e36b15ed",
   "metadata": {},
   "outputs": [],
   "source": [
    "def dxc2(a,t,dof):\n",
    "    return (chi2.cdf(a, dof)-t)\n",
    "def invert_chi2(t,dof):\n",
    "    a = 0\n",
    "    b = 100.0\n",
    "    c = (a+b)/2\n",
    "    tol = 0.00001\n",
    "\n",
    "    while(abs(dxc2(c,t,dof)) > tol):\n",
    "        c = (a+b)/2\n",
    "        if(dxc2(c,t,dof) < 0):\n",
    "            a = c\n",
    "        else:\n",
    "            b = c\n",
    "    return c"
   ]
  },
  {
   "cell_type": "code",
   "execution_count": 11,
   "id": "555f0b45",
   "metadata": {},
   "outputs": [
    {
     "data": {
      "text/plain": [
       "(2.39318356710974, 4.924383374614426)"
      ]
     },
     "execution_count": 11,
     "metadata": {},
     "output_type": "execute_result"
    }
   ],
   "source": [
    "(tmle*invert_chi2(0.025,n)/n,tmle*invert_chi2(0.975,n)/n)"
   ]
  },
  {
   "cell_type": "markdown",
   "id": "f870ad94",
   "metadata": {},
   "source": [
    "#### Exercise 6.2.14. \n",
    "\n",
    "Consider sampling on the random variable $X$ with the pdf given in Exercise $6.2.9$.\n",
    "\n",
    "(a) Obtain the corresponding cdf and its inverse. Show how to generate observations from this distribution.\n",
    "\n",
    "(b) Write an R function that generates a sample on $X$.\n",
    "\n",
    "(c) Generate a sample of size $50$ and compute the unbiased estimate of $\\theta$ discussed in Exercise $6.2.9$. Use it and the Central Limit Theorem to compute a $95\\%$ confidence interval for $\\theta$."
   ]
  },
  {
   "cell_type": "markdown",
   "id": "114385c9",
   "metadata": {},
   "source": [
    "(a) CDF is $$F_X(x) = 1-\\left ( \\frac{\\theta}{x+\\theta}\\right )^3, \\:\\:\\:\\: 0 < x < \\infty, \\: 0 < \\theta < \\infty.$$\n",
    "\n",
    "If $U$ is a uniform random variable, then a sample realization $u$ of $U$ can be used to generate that of $X$ by using the inverse cdf namely $$x = \\theta \\left ( \\sqrt[\\leftroot{-1}\\uproot{2}\\scriptstyle 3]{\\frac{1}{1-u}} - 1\\right ).$$"
   ]
  },
  {
   "cell_type": "code",
   "execution_count": 12,
   "id": "bf3d227e",
   "metadata": {},
   "outputs": [],
   "source": [
    "def dx(a,t):\n",
    "    return (norm.cdf(a, loc=0, scale=1)-t)\n",
    "def invert_norm(t):\n",
    "    a = 10.0\n",
    "    b = -10.0\n",
    "    c = (a+b)/2\n",
    "    tol = 0.00001\n",
    "\n",
    "    while(abs(dx(c,t)) > tol):\n",
    "        c = (a+b)/2\n",
    "        if(dx(c,t) > 0):\n",
    "            a = c\n",
    "        else:\n",
    "            b = c\n",
    "    return c"
   ]
  },
  {
   "cell_type": "code",
   "execution_count": 13,
   "id": "b5a09509",
   "metadata": {},
   "outputs": [
    {
     "name": "stdout",
     "output_type": "stream",
     "text": [
      "(-1.9598388671875, 1.9598388671875)\n"
     ]
    }
   ],
   "source": [
    "alpha = 1-95/100\n",
    "zh = invert_norm(1-alpha/2)\n",
    "zl = invert_norm(alpha/2)\n",
    "print((zl,zh))"
   ]
  },
  {
   "cell_type": "code",
   "execution_count": 14,
   "id": "c455ad3d",
   "metadata": {},
   "outputs": [
    {
     "name": "stdout",
     "output_type": "stream",
     "text": [
      "2.8143258840557115\n"
     ]
    }
   ],
   "source": [
    "# (b) and (c)\n",
    "\n",
    "theta=2\n",
    "\n",
    "n=50\n",
    "u=np.random.uniform(0,1,n)\n",
    "z=[theta*((1/(1-ui))**(1/3)-1) for ui in u]\n",
    "\n",
    "tmle=2*np.mean(z)\n",
    "print(tmle)"
   ]
  },
  {
   "cell_type": "code",
   "execution_count": 15,
   "id": "6c7d4e28",
   "metadata": {},
   "outputs": [
    {
     "name": "stdout",
     "output_type": "stream",
     "text": [
      "(2.0342986803498144, 3.5943530877616086)\n"
     ]
    }
   ],
   "source": [
    "print((tmle*(1+zl/np.sqrt(n)),(tmle*(1+zh/np.sqrt(n)))))"
   ]
  },
  {
   "cell_type": "markdown",
   "id": "24db21e3",
   "metadata": {},
   "source": [
    "#### Exercise 6.2.15. \n",
    "\n",
    "By using expressions $(6.2.21)$ and $(6.2.22),$ obtain the result for the one-step estimate discussed at the end of this section.\n",
    "\n"
   ]
  },
  {
   "cell_type": "markdown",
   "id": "4546e507",
   "metadata": {},
   "source": [
    "I am not sure about the following but it is nevertheless my reasoning. \n",
    "\n",
    "In $6.2.21$ and $6.2.22$, the equations still hold for any $\\theta$ and not just for $\\theta_0$. Equation $6.2.22$ and Theorem $5.1.4$ imply $$\\frac{-n}{l'' \\left (\\hat{\\theta}^{(0)} \\right)} \\xrightarrow{P} \\frac{1}{I \\left (\\hat{\\theta}^{(0)} \\right )}.$$\n",
    "\n",
    "Using the above, Equation $6.2.21$ and Slutsky's Theorem $5.2.4$, we get $$\\frac{-\\sqrt{n}l'(\\hat{\\theta}^{(0)})}{l''\\left (\\hat{\\theta}^{(0)} \\right )} \\xrightarrow{D} N \\left (0,\\frac{1}{I \\left (\\hat{\\theta}^{(0)}\\right)} \\right ),$$ and along with Equation $6.2.32$, we get $$\\sqrt{n} \\left ( \\hat{\\theta}^{(1)} - \\hat{\\theta}^{(0)} \\right )\\xrightarrow{D} N \\left (0,\\frac{1}{I \\left (\\hat{\\theta}^{(0)}\\right)} \\right ).$$\n",
    "\n",
    "As mentioned on page $371$ right after example $6.2.5$, $I(\\theta)$ is continuous in $\\theta$ and my guess for the reason is the aditional regularity condition $R5$. As $\\hat{\\theta}^{(0)}$ is consistent, we have that $I(\\hat{\\theta}^{(0)}) \\xrightarrow{P} I(\\theta_0)$ (also mentioned on page $371$ except that here, $\\hat{\\theta}^{(0)}$ is not really the mle but is just a consistent estimator). Hence we can finally conclude that $$\\sqrt{n} \\left ( \\hat{\\theta}^{(1)} - \\hat{\\theta}^{(0)} \\right )\\xrightarrow{D} N \\left (0,\\frac{1}{I (\\theta_0) }\\right ),$$ that is, the one-step estimate is an asymptotically efficient estimate of $\\theta$."
   ]
  },
  {
   "cell_type": "markdown",
   "id": "681c7ba8",
   "metadata": {},
   "source": [
    "#### Exercise 6.2.16\n",
    "\n",
    "Solutions are given in Tomoki Okuno's solutions, as well as in the solutions manual. Not worth typing it again here!"
   ]
  },
  {
   "cell_type": "code",
   "execution_count": null,
   "id": "6f847c16",
   "metadata": {},
   "outputs": [],
   "source": []
  }
 ],
 "metadata": {
  "kernelspec": {
   "display_name": "Python 3 (ipykernel)",
   "language": "python",
   "name": "python3"
  },
  "language_info": {
   "codemirror_mode": {
    "name": "ipython",
    "version": 3
   },
   "file_extension": ".py",
   "mimetype": "text/x-python",
   "name": "python",
   "nbconvert_exporter": "python",
   "pygments_lexer": "ipython3",
   "version": "3.8.8"
  }
 },
 "nbformat": 4,
 "nbformat_minor": 5
}
