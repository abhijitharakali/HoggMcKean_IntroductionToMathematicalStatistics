{
 "cells": [
  {
   "cell_type": "code",
   "execution_count": 61,
   "id": "662c738d",
   "metadata": {},
   "outputs": [],
   "source": [
    "import numpy as np\n",
    "import pandas as pd\n",
    "\n",
    "import statsmodels.api as sm\n",
    "import statsmodels.stats.api as sms\n",
    "import pylab as py\n",
    "import scipy.linalg as la\n",
    "import statistics\n",
    "import scipy.stats as stats\n",
    "import scipy\n",
    "\n",
    "from math import gamma as tma\n",
    "import itertools\n",
    "from scipy.stats import laplace\n",
    "from scipy.stats import logistic\n",
    "from scipy.stats import cauchy\n",
    "from scipy.stats import binom\n",
    "from scipy.stats import weibull_min as weibull\n",
    "from scipy.stats import poisson\n",
    "from scipy.stats import gamma\n",
    "from scipy.stats import beta\n",
    "from scipy.stats import norm\n",
    "from scipy.stats import multivariate_normal as mnorm\n",
    "from scipy.stats import t as studt\n",
    "from scipy.stats import f as fdist\n",
    "from scipy.stats import chisquare as chisq\n",
    "from scipy.stats import chi2\n",
    "from scipy.stats import gaussian_kde as gkde\n",
    "from sklearn.neighbors import KernelDensity\n",
    "import math\n",
    "import sympy as sym\n",
    "import random\n",
    "import seaborn as sns\n",
    "\n",
    "import matplotlib.pyplot as plt\n",
    "import matplotlib.lines as mlines\n",
    "import matplotlib.patches as mpatches\n",
    "from matplotlib.cbook import boxplot_stats\n",
    "\n",
    "import warnings\n",
    "warnings.filterwarnings('ignore')"
   ]
  },
  {
   "cell_type": "markdown",
   "id": "adf1de20",
   "metadata": {},
   "source": [
    "Exercise $6.6.1$ is trivial and has solution to part (c) in the solutions manual. Exercise $6.6.2$ is solved in the solutions manual."
   ]
  },
  {
   "cell_type": "markdown",
   "id": "e4094512",
   "metadata": {},
   "source": [
    "#### Exercise 6.6.3. \n",
    "For the setup of Exercise $6.6.2$, show that the following estimator of $\\theta$ is unbiased: $$ \\tilde{\\theta}= n^{-1}(X_1 - X_2 - X_3 +X4).$$"
   ]
  },
  {
   "cell_type": "markdown",
   "id": "98ec69f6",
   "metadata": {},
   "source": [
    "For a multinomial distribution, we have $E(X_i) = np_i$, so that $E(\\tilde{\\theta}) = n^{-1}(np_1-np_2-np_3+np_4) = \\theta$. Hence $\\tilde{\\theta}$ is unbiased."
   ]
  },
  {
   "cell_type": "markdown",
   "id": "5e8f871a",
   "metadata": {},
   "source": [
    "#### Exercise 6.6.4 . \n",
    "\n",
    "Rao (page 368 , 1973) presents data for the situation described in Exercise $6.6.1$. The observed frequencies are $\\textbf{x} = (125, 18, 20, 34)′.$\n",
    "\n",
    "(a) Using computational packages (for example, R), with $(6.6.24)$ as the initial estimate, write a program that obtains the stepwise EM estimates $\\hat{\\theta}^{(k)}.$\n",
    "\n",
    "(b) Using the data from Rao, compute the EM estimate of $\\theta$ with your program. List the sequence of EM estimates, $\\{\\hat{\\theta}^{(k)}\\}$, that you obtained. Did your sequence of estimates converge?\n",
    "\n",
    "(c) Show that the mle using the likelihood approach in Exercise $6.6.1$ is the positive root of the equation $197\\theta^2-15\\theta-68 = 0.$ Compare it with your EM solution. They should be the same within roundoff error.\n"
   ]
  },
  {
   "cell_type": "code",
   "execution_count": 62,
   "id": "b3964327",
   "metadata": {},
   "outputs": [],
   "source": [
    "# Solution\n",
    "\n",
    "x1=125\n",
    "x2=18\n",
    "x3=20\n",
    "x4=34\n",
    "n=x1+x2+x3+x4\n",
    "\n",
    "t0 = (x1-x2-x3+x4)/n\n",
    "ti = t0\n",
    "tiseq=[t0]\n",
    "cnt=0\n",
    "while(cnt<300):\n",
    "    tip1 = (x1*ti+2*x4+x4*ti)/(n*ti+2*(x2+x3+x4))\n",
    "    ti = tip1\n",
    "    tiseq.append(tip1)\n",
    "    cnt=cnt+1"
   ]
  },
  {
   "cell_type": "code",
   "execution_count": 63,
   "id": "38f3dbe0",
   "metadata": {},
   "outputs": [
    {
     "name": "stdout",
     "output_type": "stream",
     "text": [
      "0.6268214978709825 0.6268214978709825\n",
      "Sequence converged\n"
     ]
    }
   ],
   "source": [
    "thisroots = np.roots([197,-15,-68])\n",
    "print(thisroots[0],tiseq[-1])\n",
    "if(np.abs(thisroots[0]-tiseq[-1]) < 1e-6):\n",
    "    print('Sequence converged')\n",
    "else:\n",
    "    print('Sequence did not converge')"
   ]
  },
  {
   "cell_type": "code",
   "execution_count": 64,
   "id": "65a764ad",
   "metadata": {},
   "outputs": [
    {
     "name": "stdout",
     "output_type": "stream",
     "text": [
      "0.012608299901439413 0.6142131979695431\n",
      "0.0016898055043509386 0.6251316923666316\n",
      "0.0002246498186055934 0.6265968480523769\n",
      "2.983365451969533e-05 0.6267916642164628\n",
      "3.961361910387318e-06 0.6268175365090721\n",
      "5.259861530770849e-07 0.6268209718848294\n"
     ]
    }
   ],
   "source": [
    "for i in range(6):\n",
    "    res = np.abs(thisroots[0]-tiseq[i])\n",
    "    print(res,tiseq[i])"
   ]
  },
  {
   "cell_type": "markdown",
   "id": "1517f50e",
   "metadata": {},
   "source": [
    "Solution to $6.6.5$ is given in the solutions manual"
   ]
  },
  {
   "cell_type": "markdown",
   "id": "0780c3b4",
   "metadata": {},
   "source": [
    "#### Exercise 6.6.6\n",
    "\n",
    "Consider the situation described in Example $6.6.1.$ But suppose we have left censoring. That is, if $Z_1, Z_2, ... , Z_{n2}$ are the censored items, then all we know is that each $Z_j < a$. Obtain the EM algorithm estimate of $\\theta$."
   ]
  },
  {
   "cell_type": "markdown",
   "id": "6117507d",
   "metadata": {},
   "source": [
    "Basically expression $(6.6.13)$ changes to $$k(\\textbf{z}|\\theta,\\textbf{x}) = \\prod_{i=1}^{n_2}\\left( \\cfrac{f(z_i-\\theta)}{F(a-\\theta)} \\right)$$ with $z_i < a, ~ \\forall i\\in\\{1,2,\\cdots{},n_2\\}$. So the marginal pdf of the $Z_j$ is now $f(z-\\theta)/F(a-\\theta).$ Now expression $(6.6.4)$ changes to $$Q(\\theta|\\theta_0,\\textbf{x}) = \\sum_{i=1}^{n_1}\\log{f(x_i-\\theta)}+n_2\\int_{-\\infty}^{a}\\log{f(z-\\theta)}\\frac{f(z-\\theta_0)}{F(a-\\theta_0)}d\\textbf{z}.$$"
   ]
  },
  {
   "cell_type": "markdown",
   "id": "68024c0f",
   "metadata": {},
   "source": [
    "Now expression $(6.6.15)$ changes to $$\\frac{\\partial{Q(\\theta|\\theta_0,\\textbf{x})}}{\\partial{\\theta}}=-\\left\\{ \\sum_{i=1}^{n_1}\\frac{f'(x_i-\\theta)}{f(x_i - \\theta)} + +n_2\\int_{-\\infty}^{a}\\frac{f'(z-\\theta)}{f(z-\\theta)}\\frac{f(z-\\theta_0)}{F(a-\\theta_0)}d\\textbf{z} \\right\\},$$ so expression $(6.6.16)$ from example $6.6.1$ now changes to $$\\hat{\\theta}^{(m+1)}= \\frac{n_1}{n}\\bar{x} + \\frac{n_2}{n}\\hat{\\theta}^{(m)} + \\frac{n_2}{n}\\frac{\\phi(a-\\hat{\\theta}^{(m)})}{\\Phi(a-\\hat{\\theta}^{(m)})}.$$"
   ]
  },
  {
   "cell_type": "markdown",
   "id": "dd356e2e",
   "metadata": {},
   "source": [
    "#### Exercise 6.6.7.\n",
    "\n",
    "Suppose these data follow the model of Example $6.6.1:$\n",
    "\n",
    "|||||||||\n",
    "|:-:|:-:|:-:|:-:|:-:|:-:|:-:|:-:|\n",
    "|2.01|0.74|0.68|1.50$^+$|1.47|1.50$^+$|1.50$^+$|1.52|\n",
    "|0.07|−0.04|−0.21|0.05|−0.09|0.67|0.14||\n",
    "\n",
    "where the superscript $^+$ denotes that the observation was censored at $1.50.$ Write a computer program to obtain the EM algorithm estimate of $\\theta$."
   ]
  },
  {
   "cell_type": "code",
   "execution_count": 65,
   "id": "a9e0529b",
   "metadata": {},
   "outputs": [],
   "source": [
    "# This is just an implementation of expression (6.6.16) from the text recursively till convergence is achieved\n",
    "\n",
    "a=1.5\n",
    "n=15\n",
    "n1=12\n",
    "n2=n-n1\n",
    "\n",
    "x=[2.01,0.74,0.68,1.47,1.52,0.07,-1*0.04,-1*0.21,0.05,-1*0.09,0.67,0.14]\n",
    "xb=np.mean(x)\n",
    "t0=xb\n",
    "\n",
    "tiseq=[t0]\n",
    "ti = t0\n",
    "for i in range(300):\n",
    "    tip1 = n1/n*xb+n2/n*ti+n2/n*(norm.pdf(a-ti,loc=0,scale = 1)/(1-norm.cdf(a-ti,loc=0,scale = 1)))\n",
    "    tiseq.append(tip1)\n",
    "    ti = tip1"
   ]
  },
  {
   "cell_type": "code",
   "execution_count": 66,
   "id": "cb2dd3e5",
   "metadata": {},
   "outputs": [
    {
     "data": {
      "text/plain": [
       "[0.8898257999764785,\n",
       " 0.8898257999764785,\n",
       " 0.8898257999764785,\n",
       " 0.8898257999764785,\n",
       " 0.8898257999764785]"
      ]
     },
     "execution_count": 66,
     "metadata": {},
     "output_type": "execute_result"
    }
   ],
   "source": [
    "tiseq[-5:]"
   ]
  },
  {
   "cell_type": "markdown",
   "id": "20dbb0ee",
   "metadata": {},
   "source": [
    "#### Exercise 6.6.8. \n",
    "\n",
    "The following data are observations of the random variable $X = (1 − W)Y_1 + WY_2,$ where $W$ has a Bernoulli distribution with probability of success $0.70$; $Y_1$ has a $N (100, 202)$ distribution; $Y_2$ has a $N (120, 252)$ distribution; $W$ and $Y_1$ are independent; and $W$ and $Y_2$ are independent. Data are in the file mix$668$.rda.\n",
    "\n",
    "||||||||\n",
    "|:-:|:-:|:-:|:-:|:-:|:-:|:-:|\n",
    "|119.0|96.0|146.2|138.6|143.4|98.2|124.5|\n",
    "|114.1|136.2|136.4|184.8|79.8|151.9|114.2|\n",
    "|145.7|95.9|97.3|136.4|109.2|103.2||\n",
    "\n",
    "Program the EM algorithm for this mixing problem as discussed at the end of the section. Use a dotplot to obtain initial estimates of the parameters. Compute the estimates. How close are they to the true parameters? Note: assuming the R vector $x$ contains the sample on $X$, a quick dotplot in R is computed by plot(rep$(1,20)\\tilde{}x$)."
   ]
  },
  {
   "cell_type": "code",
   "execution_count": 67,
   "id": "62b4240a",
   "metadata": {},
   "outputs": [],
   "source": [
    "data=pd.read_csv('data/mix668.csv')\n",
    "data = data[['x']].copy()\n",
    "data.rename(columns={'x': 'X'}, inplace=True)"
   ]
  },
  {
   "cell_type": "code",
   "execution_count": 74,
   "id": "c8a44927",
   "metadata": {
    "scrolled": false
   },
   "outputs": [
    {
     "data": {
      "image/png": "[encoded data removed]",
      "text/plain": [
       "<Figure size 1008x576 with 1 Axes>"
      ]
     },
     "metadata": {
      "needs_background": "light"
     },
     "output_type": "display_data"
    }
   ],
   "source": [
    "plt.figure(figsize=(14,8))\n",
    "\n",
    "plt.hist(data['X'],bins=11,color='r',density=False)\n",
    "plt.xlabel('X',fontsize=14)\n",
    "plt.ylabel('Frquency',fontsize=14)\n",
    "plt.grid()\n",
    "plt.show()"
   ]
  },
  {
   "cell_type": "markdown",
   "id": "c4c1eb2f",
   "metadata": {},
   "source": [
    "Note that the definition of $\\theta$ is given on line right before expression $(6.6.17)$ of the text namely $\\theta′ = (\\mu_1, \\mu_2, \\sigma_1, \\sigma_2, \\epsilon).$"
   ]
  },
  {
   "cell_type": "code",
   "execution_count": 69,
   "id": "ec70c2bf",
   "metadata": {},
   "outputs": [],
   "source": [
    "def mixnormal(x, theta0):\n",
    "    # This Python function returns one iteration of the EM step for Exercise\n",
    "    # of Chapter 6.\n",
    "    # The initial estimate for the step is the input vector theta0.\n",
    "    # R code is from solutions manual, and was converted to python using the following website\n",
    "    # https://www.codeconvert.ai/r-to-python-converter    \n",
    "    part1 = (1 - theta0[4]) * norm.pdf(x, theta0[0], theta0[2])\n",
    "    part2 = theta0[4] * norm.pdf(x, theta0[1], theta0[3])\n",
    "    gam = part2 / (part1 + part2)\n",
    "    denom1 = np.sum(1 - gam)\n",
    "    denom2 = np.sum(gam)\n",
    "    mu1 = np.sum((1 - gam) * x) / denom1\n",
    "    sig1 = np.sqrt(np.sum((1 - gam) * ((x - mu1) ** 2)) / denom1)\n",
    "    mu2 = np.sum(gam * x) / denom2\n",
    "    sig2 = np.sqrt(np.sum(gam * ((x - mu2) ** 2)) / denom2)\n",
    "    p = np.mean(gam)\n",
    "    mixnormal = np.array([mu1, mu2, sig1, sig2, p])\n",
    "    return mixnormal"
   ]
  },
  {
   "cell_type": "code",
   "execution_count": 70,
   "id": "2588f2a8",
   "metadata": {},
   "outputs": [],
   "source": [
    "t0 = [105,130,15,25,0.6]\n",
    "ti = t0\n",
    "for i in range(300):\n",
    "    tip1 = mixnormal(data['X'],ti)\n",
    "    ti = tip1"
   ]
  },
  {
   "cell_type": "code",
   "execution_count": 71,
   "id": "cf609990",
   "metadata": {},
   "outputs": [
    {
     "data": {
      "text/plain": [
       "array([ 98.76415204, 133.96194222,   9.87917559,  21.51380755,\n",
       "         0.70418762])"
      ]
     },
     "execution_count": 71,
     "metadata": {},
     "output_type": "execute_result"
    }
   ],
   "source": [
    "ti"
   ]
  },
  {
   "cell_type": "markdown",
   "id": "19967dcb",
   "metadata": {},
   "source": [
    "Following is from the back of the book where answers are given to selected exercises\n",
    "\n",
    "The R function mixnormal, at site listed in the Preface produced these results: (first row are initial estimates, second row are the estimates after $500$ iterations):\n",
    "\n",
    "|$\\mu_1$|$\\mu_2$|$\\sigma_1$|$\\sigma_2$|$\\epsilon$|\n",
    "|:-:|:-:|:-:|:-:|:-:|\n",
    "|105.00|130.00|15.00|25.00|0.600|\n",
    "|98.76|133.96|9.88|21.50|0.704|"
   ]
  },
  {
   "cell_type": "code",
   "execution_count": null,
   "id": "e5a0d5a4",
   "metadata": {},
   "outputs": [],
   "source": []
  }
 ],
 "metadata": {
  "kernelspec": {
   "display_name": "Python 3 (ipykernel)",
   "language": "python",
   "name": "python3"
  },
  "language_info": {
   "codemirror_mode": {
    "name": "ipython",
    "version": 3
   },
   "file_extension": ".py",
   "mimetype": "text/x-python",
   "name": "python",
   "nbconvert_exporter": "python",
   "pygments_lexer": "ipython3",
   "version": "3.8.8"
  }
 },
 "nbformat": 4,
 "nbformat_minor": 5
}
