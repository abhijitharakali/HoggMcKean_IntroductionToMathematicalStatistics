{
 "cells": [
  {
   "cell_type": "code",
   "execution_count": 1,
   "id": "52611826",
   "metadata": {},
   "outputs": [],
   "source": [
    "import numpy as np\n",
    "import pandas as pd\n",
    "\n",
    "import statsmodels.api as sm\n",
    "import statsmodels.stats.api as sms\n",
    "import pylab as py\n",
    "import scipy.linalg as la\n",
    "import statistics\n",
    "import scipy.stats as stats\n",
    "import scipy\n",
    "\n",
    "from math import gamma as tma\n",
    "import itertools\n",
    "from scipy.stats import laplace\n",
    "from scipy.stats import logistic\n",
    "from scipy.stats import cauchy\n",
    "from scipy.stats import binom\n",
    "from scipy.stats import weibull_min as weibull\n",
    "from scipy.stats import poisson\n",
    "from scipy.stats import gamma\n",
    "from scipy.stats import beta\n",
    "from scipy.stats import norm\n",
    "from scipy.stats import multivariate_normal as mnorm\n",
    "from scipy.stats import t as studt\n",
    "from scipy.stats import f as fdist\n",
    "from scipy.stats import chisquare as chisq\n",
    "from scipy.stats import chi2\n",
    "from scipy.stats import gaussian_kde as gkde\n",
    "from sklearn.neighbors import KernelDensity\n",
    "import math\n",
    "import sympy as sym\n",
    "import random\n",
    "import seaborn as sns\n",
    "\n",
    "import matplotlib.pyplot as plt\n",
    "import matplotlib.lines as mlines\n",
    "import matplotlib.patches as mpatches\n",
    "from matplotlib.cbook import boxplot_stats\n",
    "\n",
    "import warnings\n",
    "warnings.filterwarnings('ignore')"
   ]
  },
  {
   "cell_type": "markdown",
   "id": "1fa6474d",
   "metadata": {},
   "source": [
    "Tomoki has solutions to most of them except $7.2.9$. I have included solutions where necessary."
   ]
  },
  {
   "cell_type": "markdown",
   "id": "eacf2345",
   "metadata": {},
   "source": [
    "#### Exercise 7.2.1\n",
    "\n",
    "Let $X_1,X_2,\\cdots{},X_n$ be iid $N(0,\\theta)$, $0 < \\theta < \\infty$. Show that $\\sum_{i=1}^{n} X^2_i$ is a sufficient statistic for $\\theta$.\n",
    "\n",
    "#### Solution\n",
    "\n",
    "The distribution of $Y/\\theta=\\sum_{i=1}^{n}X^2_i/\\theta$ is $\\chi^2(n) \\sim \\Gamma(n/2,2)$, which means that the distribution of $Y \\sim \\Gamma(n/2,2\\theta)$. So we have \n",
    "\n",
    "$$\\begin{align} \\frac{\\prod_{i=1}^{n}f(x_i;\\theta)}{f_Y(y;\\theta)} &= \\left ( \\prod_{i=1}^n \\frac{e^{-x_i^2/2\\theta}}{\\sqrt{2\\pi\\theta}} \\right ) \\left ( \\frac{y^{n/2-1} e^{-y/2/\\theta}}{(2\\theta)^{n/2}\\Gamma(n/2)} \\right )^{-1} \\\\ &= \\frac{\\Gamma(n/2)}{y^{n/2-1}\\pi^{n/2}}\\end{align}$$ \n",
    "\n",
    "where $u(X_1,X_2,\\cdots{},X_n)=Y = \\sum_{i=1}^{n} X^2_i$. That ratio is independent of $\\theta$ and hence $Y$ is a sufficient statistic for $\\theta$.\n",
    "\n",
    "Useful links:\n",
    "\n",
    "https://en.wikipedia.org/wiki/Gamma_distribution#Characterization_using_shape_%CE%B1_and_rate_%CE%B2\n",
    "https://math.stackexchange.com/a/3888596/145325"
   ]
  },
  {
   "cell_type": "markdown",
   "id": "aafc088d",
   "metadata": {},
   "source": [
    "#### Exercse 7.2.2\n",
    "\n",
    "Prove that the sum of the observations of a random sample of size $n$ from a Poisson distribution having parameter $\\theta$, $0 < \\theta < \\infty$, is a sufficient statistic for $\\theta$."
   ]
  },
  {
   "cell_type": "markdown",
   "id": "f4d0e839",
   "metadata": {},
   "source": [
    "#### Solution\n",
    "\n",
    "Following link (Tomoki does it differently) has the solution\n",
    "\n",
    "https://stats.stackexchange.com/a/500984/183497\n",
    "\n",
    "So basically $Y=\\sum_{i=1}^{n}X_i$ has Poisson distribution as well but with parameter $n\\theta$. Hence we get\n",
    "\n",
    "$$\\begin{align} \\frac{\\prod_{i=1}^{n}f(x_i;\\theta)}{f_Y(y;\\theta)} &= \\left ( \\prod_{i=1}^{n} \\frac{e^{-\\theta}\\theta^{x_i}}{x_i!} \\right ) \\left( \\frac{e^{-n\\theta}(n\\theta)^y}{y!} \\right)^{-1} \\\\ &= \\frac{y!}{n^y\\prod_{i=1}^{n}x_i!} \\end{align}$$ where $u(X_1,X_2,\\cdots{},X_n)=Y = \\sum_{i=1}^{n} X_i$. Since the ratio is independent of $\\theta$, $Y$ is a sufficient statistic for $\\theta$."
   ]
  },
  {
   "cell_type": "markdown",
   "id": "c243a857",
   "metadata": {},
   "source": [
    "Just a note on\n",
    "#### Exercise 7.2.3\n",
    "Tomoki has given the proof (and Solutions manual also has it). The important point is to notice that without using the factorization $\\textbf{Theorem}$ $7.2.1$, the proof of the general case would be more involved as then we'd have to find the pdf of the maximum of the random sample using the generalized pdf. Using $\\textbf{Theorem}$ $7.2.1$, we avoided having to go through that involved algebra."
   ]
  },
  {
   "cell_type": "markdown",
   "id": "d62c174c",
   "metadata": {},
   "source": [
    "#### Exercise 7.2.4. \n",
    "\n",
    "Let $X_1, X_2, \\cdots{} , X_n$ be a random sample of size $n$ from a geometric distribution that has pmf $f(x;\\theta) = (1 − \\theta)^x\\theta$, $x = 0,1,2,...$, $0 < \\theta < 1$, zero elsewhere. Show that $\\sum_{i=1}^{n} X_i$ is a sufficient statistic for $\\theta$. \n",
    "\n",
    "#### Solution\n",
    "\n",
    "Sum of the random samples have a negative binomial distribution\n",
    "\n",
    "https://math.stackexchange.com/q/548525/145325\n",
    "\n",
    "So the required ratio is $$\\frac{(1-\\theta)^n}{{y-1\\choose n-1}}$$ which is clearly seperable. Here, $y = \\sum_{i=1}^{n}x_i$."
   ]
  },
  {
   "cell_type": "markdown",
   "id": "77b890d9",
   "metadata": {},
   "source": [
    "#### Exercise 7.2.5\n",
    "\n",
    "Show that the sum of the observations of a random sample of size $n$ from a gamma distribution that has pdf $f(x;\\theta) = (1/\\theta)e^{-x/\\theta}$, $0 < x < \\infty$, $0 < \\theta < \\infty$, zero elsewhere, is a sufficient statistic for $\\theta$.\n",
    "\n",
    "#### Solution\n",
    "\n",
    "The random variable $Y = u(X_1,X_2,\\cdots{},X_n) = \\sum_{i=1}^{n}X_i$ has a $\\Gamma(n,\\theta)$ distribution and each $X_i$ have $\\Gamma(1,\\theta)$ distribution.\n",
    "\n",
    "$$\\begin{align} \\frac{\\prod_{i=1}^{n}f(x_i;\\theta)}{f_Y(y;\\theta)} &= \\left ( \\prod_{i=1}^{n} \\frac{e^{-x_i/\\theta}}{\\theta} \\right ) \\left( \\frac{e^{-y/\\theta}y^{n-1}}{\\theta^n (n-1)!} \\right)^{-1} \\\\ &= \\frac{(n-1)!}{y^{n-1}} \\end{align}$$ wherein $\\theta$ does not appear."
   ]
  },
  {
   "cell_type": "markdown",
   "id": "a0ece04c",
   "metadata": {},
   "source": [
    "#### Exercise 7.2.6. \n",
    "\n",
    "Let $X_1,X_2,\\cdots{},X_n$ be a random sample of size $n$ from a beta distribution with parameters $\\alpha = \\theta$ and $\\beta = 5$. Show that the product $X_1X_2 \\cdots{} X_n$ is a sufficient statistic for $\\theta$.\n"
   ]
  },
  {
   "cell_type": "markdown",
   "id": "7cbfde23",
   "metadata": {},
   "source": [
    "#### Solution\n",
    "\n",
    "Useful link\n",
    "\n",
    "https://math.stackexchange.com/q/3076160/145325\n",
    "\n",
    "The pdf of a beta distributed random variable is $$f_X(x;\\alpha,\\beta) = \\frac{\\Gamma(\\alpha+\\beta)}{\\Gamma(\\alpha)\\Gamma(\\beta)}x^{\\alpha-1}(1-x)^{\\beta-1}$$ so that the likelihood function to evaluate separability is $$\\prod_{i=1}^{n}\\frac{\\Gamma(\\theta+5)}{\\Gamma(\\theta)\\Gamma(5)}x_i^{\\theta-1}(1-x_i)^{4}.$$ If $Y = u(X_1,X_2,\\cdots{},X_n) = \\prod_{i=1}^{n}X_i$, then the liklihood above is easily seperable as shown below $$f(x_1;\\theta)f(x_2;\\theta)\\cdots{}f(x_n;\\theta) = y^{\\theta-1}\\left ( \\frac{\\Gamma(\\theta+5)}{\\Gamma(\\theta)} \\right )^n \\prod_{i=1}^{n}\\frac{(1-x_i)^4}{\\Gamma(5)}.$$ Since the likelihood is separable, $Y$ is a sufficient statistic for $\\theta$."
   ]
  },
  {
   "cell_type": "markdown",
   "id": "7179deb4",
   "metadata": {},
   "source": [
    "#### Exercise 7.2.7. \n",
    "\n",
    "Show that the product of the sample observations is a sufficient statistic for $\\theta > 0$ if the random sample is taken from a gamma distribution with parameters $\\alpha = \\theta$ and $\\beta = 6$."
   ]
  },
  {
   "cell_type": "markdown",
   "id": "34367d02",
   "metadata": {},
   "source": [
    "#### Solution\n",
    "\n",
    "Very similar to the previous exercise. Here, the product after seperation is $$\\frac{y^{\\theta-1}}{\\left [ 6^{\\theta}\\Gamma(\\theta) \\right ]^n} e^{-\\sum_{i=1}^{n}x_i/6}.$$"
   ]
  },
  {
   "cell_type": "markdown",
   "id": "c42b7102",
   "metadata": {},
   "source": [
    "#### Exercise 7.2.8. \n",
    "\n",
    "What is the sufficient statistic for $\\theta$ if the sample arises from a beta distribution in which $\\alpha = \\beta = \\theta > 0$?"
   ]
  },
  {
   "cell_type": "markdown",
   "id": "992bebab",
   "metadata": {},
   "source": [
    "#### Solution\n",
    "\n",
    "In this case, $$f(x_1;\\theta)f(x_2;\\theta)\\cdots{}f(x_n;\\theta) = y^{\\theta-1}\\left ( \\frac{\\Gamma(2\\theta)}{\\left [\\Gamma(\\theta) \\right ]^2} \\right )^n,$$ where $Y = u(X_1,X_2,\\cdots{},X_n) = \\prod_{i=1}^{n}X_i(1-X_i)$, is the sufficient statistic for $\\theta$.\n",
    "\n",
    "Useful link\n",
    "\n",
    "https://math.stackexchange.com/questions/321952/beta-distribution-sufficient-statistic"
   ]
  },
  {
   "cell_type": "markdown",
   "id": "3082bd1e",
   "metadata": {},
   "source": [
    "#### Exercise 7.2.9\n",
    "\n",
    "Solutions to parts (a), (b), and (c) are given in\n",
    "\n",
    "https://stats.stackexchange.com/q/161145/183497\n",
    "\n",
    "Part (d) is not addressed there but I think the \"extension\" the problem is mentioning is about the random variables (here the order statistics) being iid. With that \"extension\" by relaxing that criterion, with the $\\hat{\\theta} \\sim \\Gamma(r,\\theta/r)$, we can easily show (just like we did in the previous exercises) that $\\hat{\\theta}$ is a sufficient statistic."
   ]
  },
  {
   "cell_type": "code",
   "execution_count": null,
   "id": "3a0aeef6",
   "metadata": {},
   "outputs": [],
   "source": []
  }
 ],
 "metadata": {
  "kernelspec": {
   "display_name": "Python 3 (ipykernel)",
   "language": "python",
   "name": "python3"
  },
  "language_info": {
   "codemirror_mode": {
    "name": "ipython",
    "version": 3
   },
   "file_extension": ".py",
   "mimetype": "text/x-python",
   "name": "python",
   "nbconvert_exporter": "python",
   "pygments_lexer": "ipython3",
   "version": "3.8.8"
  }
 },
 "nbformat": 4,
 "nbformat_minor": 5
}
