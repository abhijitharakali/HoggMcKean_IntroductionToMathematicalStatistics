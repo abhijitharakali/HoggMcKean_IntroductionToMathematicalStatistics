{
 "cells": [
  {
   "cell_type": "code",
   "execution_count": 246,
   "id": "2b57d0d3",
   "metadata": {},
   "outputs": [],
   "source": [
    "import numpy as np\n",
    "import pandas as pd\n",
    "\n",
    "import statsmodels.api as sm\n",
    "import statsmodels.stats.api as sms\n",
    "import pylab as py\n",
    "import scipy.linalg as la\n",
    "\n",
    "import scipy.stats as stats\n",
    "import scipy\n",
    "\n",
    "from scipy.stats import laplace\n",
    "from scipy.stats import logistic\n",
    "from scipy.stats import binom\n",
    "from scipy.stats import poisson\n",
    "from scipy.stats import gamma\n",
    "from scipy.stats import beta\n",
    "from scipy.stats import norm\n",
    "from scipy.stats import multivariate_normal as mnorm\n",
    "from scipy.stats import t as studt\n",
    "from scipy.stats import f as fdist\n",
    "from scipy.stats import chisquare as chisq\n",
    "from scipy.stats import chi2\n",
    "from scipy.stats import gaussian_kde as gkde\n",
    "from sklearn.neighbors import KernelDensity\n",
    "import math\n",
    "\n",
    "import seaborn as sns\n",
    "\n",
    "import matplotlib.pyplot as plt\n",
    "from matplotlib.cbook import boxplot_stats\n",
    "\n",
    "import warnings\n",
    "warnings.filterwarnings('ignore')"
   ]
  },
  {
   "cell_type": "code",
   "execution_count": 247,
   "id": "d9130ecd",
   "metadata": {},
   "outputs": [],
   "source": [
    "def dxc2(a,t,dof):\n",
    "    return (chi2.cdf(a, dof)-t)\n",
    "def invert_chi2(t,dof):\n",
    "    a = 0\n",
    "    b = 100.0\n",
    "    c = (a+b)/2\n",
    "    tol = 0.00001\n",
    "\n",
    "    while(abs(dxc2(c,t,dof)) > tol):\n",
    "        c = (a+b)/2\n",
    "        if(dxc2(c,t,dof) < 0):\n",
    "            a = c\n",
    "        else:\n",
    "            b = c\n",
    "    return c"
   ]
  },
  {
   "cell_type": "markdown",
   "id": "e3524129",
   "metadata": {},
   "source": [
    "#### Exercise 4.7.1 \n",
    "Consider Example 4.7.2. Suppose the observed frequencies of A1 , . . . , A4 are 20, 30, 92, and 105, respectively. Modify the R code given in the example to calculate the test for these new frequencies. Report the p-value."
   ]
  },
  {
   "cell_type": "code",
   "execution_count": 248,
   "id": "1719ec52",
   "metadata": {},
   "outputs": [
    {
     "name": "stdout",
     "output_type": "stream",
     "text": [
      "[20, 30, 92, 105]\n"
     ]
    }
   ],
   "source": [
    "Q3 = [20,30,92,105]\n",
    "# Q3 = [6, 18, 20, 36] # When tested with this gives expected answer\n",
    "# given in the text\n",
    "print(Q3)"
   ]
  },
  {
   "cell_type": "code",
   "execution_count": 249,
   "id": "1fe5cccc",
   "metadata": {},
   "outputs": [
    {
     "data": {
      "text/plain": [
       "Power_divergenceResult(statistic=10.02348178137652, pvalue=0.018367582685620533)"
      ]
     },
     "execution_count": 249,
     "metadata": {},
     "output_type": "execute_result"
    }
   ],
   "source": [
    "n=np.sum(Q3)\n",
    "chisq(Q3, f_exp=[n/16, 3*n/16, 5*n/16, 7*n/16])"
   ]
  },
  {
   "cell_type": "markdown",
   "id": "d018dcfd",
   "metadata": {},
   "source": [
    "#### Exercise 4.7.2 \n",
    "This hypothesis (concerning the multinomial pdf with $k = 4$) is to be tested at the 5% level of significance by a chi-square test. If the observed frequencies of the sets $A_i$, $i = 1, 2, 3, 4,$ are respectively, $30, 30, 10, 10,$ would $H_0$ be accepted at the (approximate) $5\\%$ level of significance? Use R code similar to that of Example 4.7.2 for the computation."
   ]
  },
  {
   "cell_type": "code",
   "execution_count": 250,
   "id": "201e961e",
   "metadata": {},
   "outputs": [],
   "source": [
    "Q3 = [30,30,10,10]\n",
    "n=np.sum(Q3)\n",
    "chisq_anal = chisq(Q3, f_exp=[7*n/16, 5*n/16, 3*n/16, n/16])\n",
    "t3 = chisq_anal.statistic\n",
    "pval = chisq_anal.pvalue"
   ]
  },
  {
   "cell_type": "code",
   "execution_count": 251,
   "id": "4da00be6",
   "metadata": {},
   "outputs": [
    {
     "name": "stdout",
     "output_type": "stream",
     "text": [
      "8.380952380952381 7.814788818359375\n"
     ]
    }
   ],
   "source": [
    "t3_5percent = invert_chi2(0.95,3)\n",
    "print(t3,t3_5percent)"
   ]
  },
  {
   "cell_type": "code",
   "execution_count": 252,
   "id": "eb583467",
   "metadata": {},
   "outputs": [
    {
     "name": "stdout",
     "output_type": "stream",
     "text": [
      "0.038760966213518856 0.05\n"
     ]
    }
   ],
   "source": [
    "print(pval,0.05)"
   ]
  },
  {
   "cell_type": "markdown",
   "id": "b4fbf2d1",
   "metadata": {},
   "source": [
    "#### Exercise 4.7.3 \n",
    "\n",
    "A certain hypothesis assigns probabilities $p_{i0}$ to these sets $A_i$ according to a given normal distribution.\n",
    "\n",
    "This hypothesis (concerning the multinomial pdf with $k = 8$) is to be tested, at the $5\\%$ level of significance, by a chi-square test. If the observed frequencies of the sets $A_i$, $i = 1,2,...,8,$ are, respectively, $60, 96, 140, 210, 172, 160, 88, 74,$ would $H_0$ be accepted at the (approximate) $5\\%$ level of significance?"
   ]
  },
  {
   "cell_type": "code",
   "execution_count": 253,
   "id": "1f3563ae",
   "metadata": {},
   "outputs": [],
   "source": [
    "mu = 3\n",
    "sig = 2\n",
    "\n",
    "p1=norm.cdf(0, loc=mu, scale=sig)\n",
    "p2=norm.cdf(1, loc=mu, scale=sig)-norm.cdf(0, loc=mu, scale=sig)\n",
    "p3=norm.cdf(2, loc=mu, scale=sig)-norm.cdf(1, loc=mu, scale=sig)\n",
    "p4=norm.cdf(3, loc=mu, scale=sig)-norm.cdf(2, loc=mu, scale=sig)\n",
    "p5=norm.cdf(4, loc=mu, scale=sig)-norm.cdf(3, loc=mu, scale=sig)\n",
    "p6=norm.cdf(5, loc=mu, scale=sig)-norm.cdf(4, loc=mu, scale=sig)\n",
    "p7=norm.cdf(6, loc=mu, scale=sig)-norm.cdf(5, loc=mu, scale=sig)\n",
    "p8=1-norm.cdf(6, loc=mu, scale=sig)"
   ]
  },
  {
   "cell_type": "code",
   "execution_count": 254,
   "id": "61790800",
   "metadata": {},
   "outputs": [],
   "source": [
    "Q7 = [60, 96, 140, 210, 172, 160, 88, 74]\n",
    "n=np.sum(Q7)\n",
    "chisq_anal = chisq(Q7, f_exp=[n*p1,n*p2,n*p3,n*p4,n*p5,n*p6,n*p7,n*p8])\n",
    "t7 = chisq_anal.statistic\n",
    "pval = chisq_anal.pvalue"
   ]
  },
  {
   "cell_type": "code",
   "execution_count": 255,
   "id": "c0843d03",
   "metadata": {},
   "outputs": [
    {
     "data": {
      "text/plain": [
       "0.4367621769013834"
      ]
     },
     "execution_count": 255,
     "metadata": {},
     "output_type": "execute_result"
    }
   ],
   "source": [
    "pval"
   ]
  },
  {
   "cell_type": "code",
   "execution_count": 256,
   "id": "5f1b4732",
   "metadata": {},
   "outputs": [
    {
     "name": "stdout",
     "output_type": "stream",
     "text": [
      "6.92469845444233 14.06707763671875\n"
     ]
    }
   ],
   "source": [
    "t7_5percent = invert_chi2(0.95,7)\n",
    "print(t7,t7_5percent)"
   ]
  },
  {
   "cell_type": "markdown",
   "id": "45974b17",
   "metadata": {},
   "source": [
    "#### Exercise 4.7.4 \n",
    "\n",
    "A die was cast $n = 120$ independent times and the following data resulted:\n",
    "$$\\textrm{Frequency = [b,20,20,20,20,40−b]}$$\n",
    "If we use a chi-square test, for what values of $b$ would the hypothesis that the die is unbiased be rejected at the $0.025$ significance level?"
   ]
  },
  {
   "cell_type": "code",
   "execution_count": 257,
   "id": "5961faf7",
   "metadata": {},
   "outputs": [
    {
     "name": "stdout",
     "output_type": "stream",
     "text": [
      "8.671875 31.328125\n"
     ]
    }
   ],
   "source": [
    "t5_2p5 = invert_chi2(0.975,5)\n",
    "blow = 20 - np.sqrt(10*t5_2p5)\n",
    "bhigh = 20 + np.sqrt(10*t5_2p5)\n",
    "print(blow,bhigh)"
   ]
  },
  {
   "cell_type": "markdown",
   "id": "431d0980",
   "metadata": {},
   "source": [
    "#### Exercise 4.7.5\n",
    "\n",
    "Consider the problem from genetics of crossing two types of peas. The Mendelian theory states that the probabilities of the classifications (a) round and yellow, (b) wrinkled and yellow, (c) round and green, and (d) wrinkled and green\n",
    "are $9/16 , 3/16 , 3/16 , 1/16 ,$ respectively. If, from $160$ independent observations, the observed frequencies of these respective classifications are $86, 35, 26, 13,$ are these data consistent with the Mendelian theory? That is, test, with $\\alpha = 0.01$, the hypothesis that the respective probabilities are $9/16 , 3/16 , 3/16 , 1/16$."
   ]
  },
  {
   "cell_type": "code",
   "execution_count": 258,
   "id": "90c7ea4f",
   "metadata": {},
   "outputs": [
    {
     "name": "stdout",
     "output_type": "stream",
     "text": [
      "0.48541492773459094 0.01\n",
      "2.444444444444444 11.346435546875\n"
     ]
    }
   ],
   "source": [
    "Q3 = [86,35,26,13]\n",
    "n=np.sum(Q3)\n",
    "chisq_anal = chisq(Q3, f_exp=[9*n/16, 3*n/16, 3*n/16, n/16])\n",
    "t3 = chisq_anal.statistic\n",
    "pval = chisq_anal.pvalue\n",
    "print(pval,0.01)\n",
    "\n",
    "t3_5percent = invert_chi2(0.99,3)\n",
    "print(t3,t3_5percent)"
   ]
  },
  {
   "cell_type": "markdown",
   "id": "741bbb96",
   "metadata": {},
   "source": [
    "#### Exercise 4.7.6\n",
    "Two different teaching procedures were used on two different groups of students. Each group contained $n = 100$ students of about the same ability. At the end of the term, an evaluating team assigned a letter grade to each student. The results were tabulated as follows. \n",
    "If we consider these data to be independent observations from two respective multinomial distributions with $k = 5$, test at the $5\\%$ significance level the hypothesis that the two distributions are the same (and hence the two teaching procedures are equally effective). "
   ]
  },
  {
   "cell_type": "code",
   "execution_count": 259,
   "id": "7856746e",
   "metadata": {},
   "outputs": [
    {
     "name": "stdout",
     "output_type": "stream",
     "text": [
      "0.17107798737916563 0.05\n",
      "6.4018906821423025 9.4879150390625\n"
     ]
    }
   ],
   "source": [
    "Q4 = [15,25,32,17,11]\n",
    "Qtest = [9,18,29,28,16]\n",
    "chisq_anal = scipy.stats.chi2_contingency([Q4, Qtest])\n",
    "t4 = chisq_anal[0]\n",
    "pval = chisq_anal[1]\n",
    "print(pval,0.05)\n",
    "\n",
    "t4_5percent = invert_chi2(0.95,4)\n",
    "print(t4,t4_5percent)"
   ]
  },
  {
   "cell_type": "markdown",
   "id": "29d4a238",
   "metadata": {},
   "source": [
    "#### Exercise 4.7.7\n",
    "Kloke and McKean ($2014$) present a data set concerning crime and alcoholism. The data they discuss is in Table $4.7.1$. It contains the frequencies of criminals who committed certain crimes and whether or not they are alcoholics. The data are also in the file crimealk.rda.\n",
    "(a) Using code similar to that given in Exercise $4.7.6$, compute the $\\chi^2$-test for independence between type of crime and alcoholic status. Conclude in terms of the problem, using the p-value.\n",
    "(b) Use the Pearson residuals to determine which part of the table contains the strongest information concerning dependence.\n",
    "(c) Use a $\\chi^2$-test to confirm your suspicions in Part (b). This is a conditional test based on the data, but, in practice, such tests are used for planning future studies."
   ]
  },
  {
   "cell_type": "code",
   "execution_count": 260,
   "id": "b91621db",
   "metadata": {
    "scrolled": true
   },
   "outputs": [
    {
     "name": "stdout",
     "output_type": "stream",
     "text": [
      "1.5733174415754754e-09 0.05\n",
      "49.73060762381403 11.07025146484375\n"
     ]
    }
   ],
   "source": [
    "Qal = [50,88,155,379,18,63]\n",
    "Qnal = [43,62,110,300,14,144]\n",
    "chisq_anal = scipy.stats.chi2_contingency([Qal, Qnal])\n",
    "t5 = chisq_anal[0]\n",
    "pval = chisq_anal[1]\n",
    "print(pval,0.05)\n",
    "\n",
    "t5_5percent = invert_chi2(0.95,5)\n",
    "print(t5,t5_5percent)"
   ]
  },
  {
   "cell_type": "code",
   "execution_count": 261,
   "id": "1ac57ad9",
   "metadata": {},
   "outputs": [
    {
     "data": {
      "text/plain": [
       "(49.73060762381403,\n",
       " 1.5733174415754754e-09,\n",
       " 5,\n",
       " array([[ 49.10869565,  79.20757363, 139.93338008, 358.54628331,\n",
       "          16.89761571, 109.30645161],\n",
       "        [ 43.89130435,  70.79242637, 125.06661992, 320.45371669,\n",
       "          15.10238429,  97.69354839]]))"
      ]
     },
     "execution_count": 261,
     "metadata": {},
     "output_type": "execute_result"
    }
   ],
   "source": [
    "chisq_anal"
   ]
  },
  {
   "cell_type": "markdown",
   "id": "bf7ce0bd",
   "metadata": {},
   "source": [
    "#### Exercise 4.7.8\n",
    "Let the result of a random experiment be classified as one of the mutually exclusive and exhaustive ways $A_1 , A_2 , A_3$ and also as one of the mutually exhaustive ways $B_1, B_2, B_3, B_4$. Say that $180$ independent trials of the experiment result in the following frequencies:\n",
    "\n",
    "where $k$ is one of the integers $0,1,2,3,4,5$. What is the smallest value of $k$ that leads to the rejection of the independence of the $A$ attribute and the $B$ attribute at the $\\alpha = 0.05$ significance level?"
   ]
  },
  {
   "cell_type": "markdown",
   "id": "9a7526d0",
   "metadata": {},
   "source": [
    "Degrees of freedom is $(a-1)(b-1) = (2-1)(6-5) = 5$"
   ]
  },
  {
   "cell_type": "code",
   "execution_count": 262,
   "id": "3b5706e6",
   "metadata": {},
   "outputs": [
    {
     "name": "stdout",
     "output_type": "stream",
     "text": [
      "Results for k = 0\n",
      "1.0 0.05\n",
      "0.0 11.07025146484375\n",
      "Results for k = 1\n",
      "0.8493685561506752 0.05\n",
      "2.6666666666666665 11.07025146484375\n",
      "Results for k = 2\n",
      "0.0992411943176463 0.05\n",
      "10.666666666666666 11.07025146484375\n",
      "Results for k = 3\n",
      "0.0005222580500328981 0.05\n",
      "24.0 11.07025146484375\n",
      "Results for k = 4\n",
      "1.3576818077890672e-07 0.05\n",
      "42.666666666666664 11.07025146484375\n",
      "Results for k = 5\n",
      "1.9691893839547698e-12 0.05\n",
      "66.66666666666666 11.07025146484375\n"
     ]
    }
   ],
   "source": [
    "for k in range(6):\n",
    "    qa1 = [15-3*k,15-k,15+k,15+3*k]\n",
    "    qa2 = [15,15,15,15]\n",
    "    qa3 = [15+3*k,15+k,15-k,15-3*k]\n",
    "    chisq_anal = scipy.stats.chi2_contingency([qa1,qa2,qa3])\n",
    "    t5 = chisq_anal[0]\n",
    "    pval = chisq_anal[1]\n",
    "    print('Results for k = '+str(k))\n",
    "    print(pval,0.05)\n",
    "\n",
    "    t5_5percent = invert_chi2(0.95,5)\n",
    "    print(t5,t5_5percent)"
   ]
  },
  {
   "cell_type": "markdown",
   "id": "4958fd12",
   "metadata": {},
   "source": [
    "It breaks for $k\\geq3$"
   ]
  },
  {
   "cell_type": "markdown",
   "id": "470e6e7d",
   "metadata": {},
   "source": [
    "#### Exercise 4.7.9\n",
    "\n",
    "It is proposed to fit the Poisson distribution to the following data:\n",
    "\n",
    "(a) Compute the corresponding chi-square goodness-of-fit statistic. \n",
    "Hint: In computing the mean, treat $3 < x$ as $x = 4$.\n",
    "\n",
    "(b) How many degrees of freedom are associated with this chi-square?\n",
    "\n",
    "(c) Do these data result in the rejection of the Poisson model at the $\\alpha = 0.05$ significance level?"
   ]
  },
  {
   "cell_type": "markdown",
   "id": "741ab9ac",
   "metadata": {},
   "source": [
    "Useful links:\n",
    "\n",
    "Read Poisson distribution in section 5.2 of https://www.cimt.org.uk/projects/mepres/alevel/fstats_ch5.pdf\n",
    "\n",
    "Section 3.3 of https://bookdown.org/yg484/rec_4_note/chi-square-goodness-of-fit-test.html\n",
    "\n",
    "Solution to #9 (execcise 5, page five of the document) https://pages.pomona.edu/~ajr04747/Fall2009/Math152/Assignments/Math152F09Assign9Solutions.pdf"
   ]
  },
  {
   "cell_type": "code",
   "execution_count": 263,
   "id": "77dc4d60",
   "metadata": {},
   "outputs": [
    {
     "data": {
      "text/plain": [
       "0.22313016014842982"
      ]
     },
     "execution_count": 263,
     "metadata": {},
     "output_type": "execute_result"
    }
   ],
   "source": [
    "y=[20,40,16,18,6]\n",
    "x=[0,1,2,3,4]\n",
    "mu0=np.sum([x[i]*y[i] for i in range(len(x))])/np.sum(y)\n",
    "poisson.pmf(0,mu0)"
   ]
  },
  {
   "cell_type": "code",
   "execution_count": 264,
   "id": "e3aa9b67",
   "metadata": {},
   "outputs": [],
   "source": [
    "n = np.sum(y)\n",
    "np0 = n*poisson.pmf(0,mu0)\n",
    "np1 = n*poisson.pmf(1,mu0)\n",
    "np2 = n*poisson.pmf(2,mu0)\n",
    "np3 = n*poisson.pmf(3,mu0)\n",
    "np4 = n*(1-poisson.cdf(3,mu0))"
   ]
  },
  {
   "cell_type": "code",
   "execution_count": 266,
   "id": "a9123047",
   "metadata": {},
   "outputs": [
    {
     "name": "stdout",
     "output_type": "stream",
     "text": [
      "0.06495889892004691 0.05\n",
      "7.228556835840631 7.814788818359375\n"
     ]
    }
   ],
   "source": [
    "chisq_anal = chisq(y, f_exp=[np0,np1,np2,np3,np4],ddof=1)\n",
    "t3 = chisq_anal.statistic\n",
    "pval = chisq_anal.pvalue\n",
    "print(pval,0.05)\n",
    "\n",
    "t3_5percent = invert_chi2(0.95,3)\n",
    "print(t3,t3_5percent)"
   ]
  },
  {
   "cell_type": "markdown",
   "id": "c1da23de",
   "metadata": {},
   "source": [
    "Looks like it barely survived!"
   ]
  },
  {
   "cell_type": "code",
   "execution_count": null,
   "id": "eebd195e",
   "metadata": {},
   "outputs": [],
   "source": []
  }
 ],
 "metadata": {
  "kernelspec": {
   "display_name": "Python 3 (ipykernel)",
   "language": "python",
   "name": "python3"
  },
  "language_info": {
   "codemirror_mode": {
    "name": "ipython",
    "version": 3
   },
   "file_extension": ".py",
   "mimetype": "text/x-python",
   "name": "python",
   "nbconvert_exporter": "python",
   "pygments_lexer": "ipython3",
   "version": "3.8.8"
  }
 },
 "nbformat": 4,
 "nbformat_minor": 5
}
